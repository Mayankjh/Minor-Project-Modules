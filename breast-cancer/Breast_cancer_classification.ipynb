{
 "cells": [
  {
   "cell_type": "markdown",
   "metadata": {
    "colab_type": "text",
    "id": "rMWxokl4SqRp"
   },
   "source": [
    "# Loading & Preprocessing"
   ]
  },
  {
   "cell_type": "code",
   "execution_count": 1,
   "metadata": {
    "_cell_guid": "b1076dfc-b9ad-4769-8c92-a6c4dae69d19",
    "_uuid": "8f2839f25d086af736a60e9eeb907d3b93b6e0e5",
    "colab": {},
    "colab_type": "code",
    "id": "WYLMQqTwSqRh"
   },
   "outputs": [
    {
     "name": "stderr",
     "output_type": "stream",
     "text": [
      "Using TensorFlow backend.\n"
     ]
    }
   ],
   "source": [
    "import json\n",
    "import math\n",
    "import os\n",
    "\n",
    "import cv2\n",
    "from PIL import Image\n",
    "import numpy as np\n",
    "from keras import layers\n",
    "from keras.applications import ResNet50,MobileNet, DenseNet201, InceptionV3, NASNetLarge, InceptionResNetV2, NASNetMobile\n",
    "from keras.callbacks import Callback, ModelCheckpoint, ReduceLROnPlateau, TensorBoard\n",
    "from keras.preprocessing.image import ImageDataGenerator\n",
    "from keras.utils.np_utils import to_categorical\n",
    "from keras.models import Sequential\n",
    "from keras.optimizers import Adam\n",
    "import matplotlib.pyplot as plt\n",
    "import pandas as pd\n",
    "from sklearn.model_selection import train_test_split\n",
    "from sklearn.metrics import cohen_kappa_score, accuracy_score\n",
    "import scipy\n",
    "from tqdm import tqdm\n",
    "import tensorflow as tf\n",
    "from keras import backend as K\n",
    "import gc\n",
    "from functools import partial\n",
    "from sklearn import metrics\n",
    "from collections import Counter\n",
    "import json\n",
    "import itertools\n",
    "\n",
    "\n",
    "%matplotlib inline"
   ]
  },
  {
   "cell_type": "code",
   "execution_count": 2,
   "metadata": {},
   "outputs": [],
   "source": [
    "# get all image in train folder  \n",
    "# import glob\n",
    "\n",
    "# files = glob.glob('breast/malignant/' + '/**/*.png', recursive=True)\n",
    "# print(len(files))\n",
    "# import os  \n",
    "# import shutil\n",
    "#Source path  \n",
    "  \n",
    "# Destination path  \n",
    "# destination = 'data/train/malignant/'\n",
    "  \n",
    "# Move the content of  \n",
    "# source to destination \n",
    "# using shutil.copytree() as parameter\n",
    "# for n in files:\n",
    "#     dest = shutil.move(n, destination, copy_function = shutil.copytree)  \n",
    "#_________________Don't use Again______________________________________"
   ]
  },
  {
   "cell_type": "code",
   "execution_count": 3,
   "metadata": {},
   "outputs": [],
   "source": [
    "# adding files in test and validation files\n",
    "# import shutil, random, os\n",
    "# dirpath = 'D:/Minor Project/data/train/malignant/'\n",
    "# destDirectory = 'D:/Minor Project/Data2/validation/malignant/'\n",
    "\n",
    "# filenames = random.sample(os.listdir(dirpath), 200)\n",
    "# for fname in filenames:\n",
    "#     srcpath = os.path.join(dirpath, fname)\n",
    "#     shutil.move(srcpath, destDirectory)\n",
    "# #__________________DON'T USE AGAIN_______________________________"
   ]
  },
  {
   "cell_type": "code",
   "execution_count": 24,
   "metadata": {
    "colab": {
     "base_uri": "https://localhost:8080/",
     "height": 85
    },
    "colab_type": "code",
    "id": "awOlyPMkSqRr",
    "outputId": "9d6bcb47-afc6-40f0-ba89-50ed6f750179"
   },
   "outputs": [
    {
     "name": "stderr",
     "output_type": "stream",
     "text": [
      "100%|████████████████████████████████████████████████████████████████████████████████| 496/496 [00:06<00:00, 72.42it/s]\n",
      "100%|██████████████████████████████████████████████████████████████████████████████| 1086/1086 [00:15<00:00, 71.28it/s]\n",
      "100%|████████████████████████████████████████████████████████████████████████████████| 150/150 [00:01<00:00, 76.47it/s]\n",
      "100%|████████████████████████████████████████████████████████████████████████████████| 200/200 [00:02<00:00, 67.23it/s]\n"
     ]
    }
   ],
   "source": [
    "#Transfer 'jpg' images to an array IMG\n",
    "def Dataset_loader(DIR, RESIZE, sigmaX=10):\n",
    "    IMG = []\n",
    "    read = lambda imname: np.asarray(Image.open(imname).convert(\"RGB\"))\n",
    "    for IMAGE_NAME in tqdm(os.listdir(DIR)):\n",
    "        PATH = os.path.join(DIR,IMAGE_NAME)\n",
    "        _, ftype = os.path.splitext(PATH)\n",
    "        if ftype == \".png\":\n",
    "            img = read(PATH)\n",
    "           \n",
    "            img = cv2.resize(img, (RESIZE,RESIZE))\n",
    "           \n",
    "            IMG.append(np.array(img))\n",
    "    return IMG\n",
    "\n",
    "benign_train = np.array(Dataset_loader('data/train/benign',128))\n",
    "malign_train = np.array(Dataset_loader('data/train/malignant',128))\n",
    "benign_test = np.array(Dataset_loader('data/validation/benign',128))\n",
    "malign_test = np.array(Dataset_loader('data/validation/malignant',128))"
   ]
  },
  {
   "cell_type": "markdown",
   "metadata": {
    "colab_type": "text",
    "id": "6_aYpUdRSqRx"
   },
   "source": [
    "# Create Label"
   ]
  },
  {
   "cell_type": "code",
   "execution_count": 25,
   "metadata": {
    "colab": {},
    "colab_type": "code",
    "id": "VvLXqIjJSqR0"
   },
   "outputs": [],
   "source": [
    "# Skin Cancer: Malignant vs. Benign\n",
    "# Create labels\n",
    "benign_train_label = np.zeros(len(benign_train))\n",
    "malign_train_label = np.ones(len(malign_train))\n",
    "benign_test_label = np.zeros(len(benign_test))\n",
    "malign_test_label = np.ones(len(malign_test))\n",
    "\n",
    "# Merge data \n",
    "X_train = np.concatenate((benign_train, malign_train), axis = 0)\n",
    "Y_train = np.concatenate((benign_train_label, malign_train_label), axis = 0)\n",
    "X_test = np.concatenate((benign_test, malign_test), axis = 0)\n",
    "Y_test = np.concatenate((benign_test_label, malign_test_label), axis = 0)\n",
    "\n",
    "# Shuffle train data\n",
    "s = np.arange(X_train.shape[0])\n",
    "np.random.shuffle(s)\n",
    "X_train = X_train[s]\n",
    "Y_train = Y_train[s]\n",
    "\n",
    "# Shuffle test data\n",
    "s = np.arange(X_test.shape[0])\n",
    "np.random.shuffle(s)\n",
    "X_test = X_test[s]\n",
    "Y_test = Y_test[s]\n",
    "\n",
    "# To categorical\n",
    "Y_train = to_categorical(Y_train, num_classes= 2)\n",
    "Y_test = to_categorical(Y_test, num_classes= 2)"
   ]
  },
  {
   "cell_type": "markdown",
   "metadata": {
    "colab_type": "text",
    "id": "pzRYwNNeSqR6"
   },
   "source": [
    "# Train and Evalutation split"
   ]
  },
  {
   "cell_type": "code",
   "execution_count": 26,
   "metadata": {
    "colab": {},
    "colab_type": "code",
    "id": "tFPNVKuVSqR7"
   },
   "outputs": [],
   "source": [
    "x_train, x_val, y_train, y_val = train_test_split(\n",
    "    X_train, Y_train, \n",
    "    test_size=0.2, \n",
    "    random_state=11\n",
    ")"
   ]
  },
  {
   "cell_type": "markdown",
   "metadata": {
    "colab_type": "text",
    "id": "zeHBKGkOSqSH"
   },
   "source": [
    "# Data Generator"
   ]
  },
  {
   "cell_type": "code",
   "execution_count": 28,
   "metadata": {
    "colab": {},
    "colab_type": "code",
    "id": "GzvWwOX5SqSJ"
   },
   "outputs": [],
   "source": [
    "BATCH_SIZE = 16\n",
    "\n",
    "# Using original generator\n",
    "train_generator = ImageDataGenerator(\n",
    "        zoom_range=2,  # set range for random zoom\n",
    "        rotation_range = 90,\n",
    "        horizontal_flip=True,  # randomly flip images\n",
    "        vertical_flip=True,  # randomly flip images\n",
    "    )"
   ]
  },
  {
   "cell_type": "markdown",
   "metadata": {
    "colab_type": "text",
    "id": "YV-DcpEdSqSN"
   },
   "source": [
    "# Model: ResNet50"
   ]
  },
  {
   "cell_type": "code",
   "execution_count": 29,
   "metadata": {
    "colab": {},
    "colab_type": "code",
    "id": "PiOb_A16SqSP"
   },
   "outputs": [],
   "source": [
    "def build_model(backbone, lr=1e-4):\n",
    "    model = Sequential()\n",
    "    model.add(backbone)\n",
    "    model.add(layers.GlobalAveragePooling2D())\n",
    "    model.add(layers.Dropout(0.5))\n",
    "    model.add(layers.BatchNormalization())\n",
    "    model.add(layers.Dense(2, activation='softmax'))\n",
    "    \n",
    "    \n",
    "    model.compile(\n",
    "        loss='binary_crossentropy',\n",
    "        optimizer=Adam(lr=lr),\n",
    "        metrics=['accuracy']\n",
    "    )\n",
    "    \n",
    "    return model"
   ]
  },
  {
   "cell_type": "code",
   "execution_count": 30,
   "metadata": {
    "colab": {
     "base_uri": "https://localhost:8080/",
     "height": 323
    },
    "colab_type": "code",
    "id": "IiNR9yNsSqSZ",
    "outputId": "55c45c28-ece7-4999-c993-a5111a0684ac"
   },
   "outputs": [
    {
     "name": "stdout",
     "output_type": "stream",
     "text": [
      "Model: \"sequential_1\"\n",
      "_________________________________________________________________\n",
      "Layer (type)                 Output Shape              Param #   \n",
      "=================================================================\n",
      "densenet201 (Model)          (None, 4, 4, 1920)        18321984  \n",
      "_________________________________________________________________\n",
      "global_average_pooling2d_1 ( (None, 1920)              0         \n",
      "_________________________________________________________________\n",
      "dropout_1 (Dropout)          (None, 1920)              0         \n",
      "_________________________________________________________________\n",
      "batch_normalization_1 (Batch (None, 1920)              7680      \n",
      "_________________________________________________________________\n",
      "dense_1 (Dense)              (None, 2)                 3842      \n",
      "=================================================================\n",
      "Total params: 18,333,506\n",
      "Trainable params: 18,100,610\n",
      "Non-trainable params: 232,896\n",
      "_________________________________________________________________\n"
     ]
    }
   ],
   "source": [
    "K.clear_session()\n",
    "gc.collect()\n",
    "\n",
    "resnet = DenseNet201(\n",
    "    weights='imagenet',\n",
    "    include_top=False,\n",
    "    input_shape=(128,128,3)\n",
    ")\n",
    "\n",
    "\n",
    " \n",
    "\n",
    "\n",
    "model = build_model(resnet ,lr = 1e-4)\n",
    "model.summary()"
   ]
  },
  {
   "cell_type": "code",
   "execution_count": 31,
   "metadata": {
    "colab": {},
    "colab_type": "code",
    "id": "0kte5sieSqSg"
   },
   "outputs": [],
   "source": [
    "# Learning Rate Reducer\n",
    "learn_control = ReduceLROnPlateau(monitor='val_acc', patience=5,\n",
    "                                  verbose=1,factor=0.2, min_lr=1e-7)\n",
    "\n",
    "# Checkpoint\n",
    "filepath=\"weights.best.hdf5\"\n",
    "checkpoint = ModelCheckpoint(filepath, monitor='val_acc', verbose=1, save_best_only=True, mode='max')"
   ]
  },
  {
   "cell_type": "markdown",
   "metadata": {
    "colab_type": "text",
    "id": "7_J8fUneSqSl"
   },
   "source": [
    "# Training & Evaluation"
   ]
  },
  {
   "cell_type": "code",
   "execution_count": 32,
   "metadata": {
    "colab": {
     "base_uri": "https://localhost:8080/",
     "height": 1000
    },
    "colab_type": "code",
    "id": "ajEGVCVOSqSm",
    "outputId": "d81ca819-2276-4153-ae40-3414c3c432d6",
    "scrolled": true
   },
   "outputs": [
    {
     "name": "stdout",
     "output_type": "stream",
     "text": [
      "Epoch 1/20\n",
      "80/79 [==============================] - ETA: 31:12 - loss: 0.6343 - accuracy: 0.625 - ETA: 15:38 - loss: 0.7644 - accuracy: 0.562 - ETA: 10:26 - loss: 0.8308 - accuracy: 0.541 - ETA: 7:50 - loss: 0.7938 - accuracy: 0.593 - ETA: 6:16 - loss: 0.8182 - accuracy: 0.56 - ETA: 5:14 - loss: 0.7974 - accuracy: 0.57 - ETA: 4:29 - loss: 0.7684 - accuracy: 0.58 - ETA: 3:55 - loss: 0.7838 - accuracy: 0.57 - ETA: 3:29 - loss: 0.7882 - accuracy: 0.56 - ETA: 3:08 - loss: 0.7694 - accuracy: 0.56 - ETA: 2:50 - loss: 0.7833 - accuracy: 0.55 - ETA: 2:36 - loss: 0.7894 - accuracy: 0.55 - ETA: 2:24 - loss: 0.7803 - accuracy: 0.55 - ETA: 2:13 - loss: 0.7916 - accuracy: 0.55 - ETA: 2:04 - loss: 0.7920 - accuracy: 0.55 - ETA: 1:56 - loss: 0.7852 - accuracy: 0.56 - ETA: 1:48 - loss: 0.7825 - accuracy: 0.56 - ETA: 1:42 - loss: 0.7716 - accuracy: 0.57 - ETA: 1:36 - loss: 0.7668 - accuracy: 0.57 - ETA: 1:31 - loss: 0.7836 - accuracy: 0.56 - ETA: 1:26 - loss: 0.7841 - accuracy: 0.57 - ETA: 1:22 - loss: 0.7994 - accuracy: 0.56 - ETA: 1:18 - loss: 0.7986 - accuracy: 0.56 - ETA: 1:14 - loss: 0.7886 - accuracy: 0.57 - ETA: 1:10 - loss: 0.7774 - accuracy: 0.58 - ETA: 1:07 - loss: 0.7675 - accuracy: 0.59 - ETA: 1:04 - loss: 0.7662 - accuracy: 0.60 - ETA: 1:01 - loss: 0.7609 - accuracy: 0.60 - ETA: 1:01 - loss: 0.7555 - accuracy: 0.60 - ETA: 58s - loss: 0.7434 - accuracy: 0.6151 - ETA: 55s - loss: 0.7325 - accuracy: 0.621 - ETA: 53s - loss: 0.7247 - accuracy: 0.625 - ETA: 51s - loss: 0.7136 - accuracy: 0.633 - ETA: 49s - loss: 0.7065 - accuracy: 0.638 - ETA: 47s - loss: 0.7075 - accuracy: 0.638 - ETA: 45s - loss: 0.7045 - accuracy: 0.638 - ETA: 43s - loss: 0.7057 - accuracy: 0.637 - ETA: 41s - loss: 0.7029 - accuracy: 0.639 - ETA: 40s - loss: 0.7019 - accuracy: 0.640 - ETA: 38s - loss: 0.6965 - accuracy: 0.646 - ETA: 37s - loss: 0.6940 - accuracy: 0.649 - ETA: 35s - loss: 0.6893 - accuracy: 0.651 - ETA: 34s - loss: 0.6815 - accuracy: 0.653 - ETA: 32s - loss: 0.6738 - accuracy: 0.658 - ETA: 31s - loss: 0.6761 - accuracy: 0.655 - ETA: 30s - loss: 0.6736 - accuracy: 0.656 - ETA: 28s - loss: 0.6738 - accuracy: 0.658 - ETA: 27s - loss: 0.6654 - accuracy: 0.662 - ETA: 26s - loss: 0.6643 - accuracy: 0.664 - ETA: 25s - loss: 0.6624 - accuracy: 0.666 - ETA: 24s - loss: 0.6631 - accuracy: 0.669 - ETA: 22s - loss: 0.6650 - accuracy: 0.670 - ETA: 21s - loss: 0.6630 - accuracy: 0.673 - ETA: 20s - loss: 0.6643 - accuracy: 0.672 - ETA: 19s - loss: 0.6648 - accuracy: 0.671 - ETA: 18s - loss: 0.6645 - accuracy: 0.672 - ETA: 17s - loss: 0.6615 - accuracy: 0.672 - ETA: 16s - loss: 0.6560 - accuracy: 0.675 - ETA: 15s - loss: 0.6535 - accuracy: 0.678 - ETA: 14s - loss: 0.6562 - accuracy: 0.675 - ETA: 14s - loss: 0.6585 - accuracy: 0.676 - ETA: 13s - loss: 0.6542 - accuracy: 0.678 - ETA: 12s - loss: 0.6547 - accuracy: 0.677 - ETA: 11s - loss: 0.6537 - accuracy: 0.675 - ETA: 10s - loss: 0.6554 - accuracy: 0.675 - ETA: 9s - loss: 0.6512 - accuracy: 0.677 - ETA: 8s - loss: 0.6494 - accuracy: 0.67 - ETA: 8s - loss: 0.6488 - accuracy: 0.67 - ETA: 7s - loss: 0.6489 - accuracy: 0.67 - ETA: 6s - loss: 0.6531 - accuracy: 0.67 - ETA: 5s - loss: 0.6509 - accuracy: 0.67 - ETA: 5s - loss: 0.6531 - accuracy: 0.67 - ETA: 4s - loss: 0.6499 - accuracy: 0.67 - ETA: 3s - loss: 0.6479 - accuracy: 0.67 - ETA: 2s - loss: 0.6478 - accuracy: 0.67 - ETA: 2s - loss: 0.6509 - accuracy: 0.67 - ETA: 1s - loss: 0.6474 - accuracy: 0.68 - ETA: 0s - loss: 0.6485 - accuracy: 0.67 - ETA: 0s - loss: 0.6497 - accuracy: 0.67 - 59s 743ms/step - loss: 0.6517 - accuracy: 0.6791 - val_loss: 1.1345 - val_accuracy: 0.6278\n"
     ]
    },
    {
     "name": "stderr",
     "output_type": "stream",
     "text": [
      "C:\\Users\\MAYANK\\AppData\\Local\\Continuum\\anaconda3\\envs\\MyGPU\\lib\\site-packages\\keras\\callbacks\\callbacks.py:1042: RuntimeWarning: Reduce LR on plateau conditioned on metric `val_acc` which is not available. Available metrics are: val_loss,val_accuracy,loss,accuracy,lr\n",
      "  (self.monitor, ','.join(list(logs.keys()))), RuntimeWarning\n",
      "C:\\Users\\MAYANK\\AppData\\Local\\Continuum\\anaconda3\\envs\\MyGPU\\lib\\site-packages\\keras\\callbacks\\callbacks.py:707: RuntimeWarning: Can save best model only with val_acc available, skipping.\n",
      "  'skipping.' % (self.monitor), RuntimeWarning)\n"
     ]
    },
    {
     "name": "stdout",
     "output_type": "stream",
     "text": [
      "Epoch 2/20\n",
      "80/79 [==============================] - ETA: 28s - loss: 0.7483 - accuracy: 0.687 - ETA: 28s - loss: 0.7091 - accuracy: 0.656 - ETA: 27s - loss: 0.7486 - accuracy: 0.604 - ETA: 27s - loss: 0.6370 - accuracy: 0.656 - ETA: 27s - loss: 0.6304 - accuracy: 0.675 - ETA: 27s - loss: 0.5879 - accuracy: 0.708 - ETA: 26s - loss: 0.6284 - accuracy: 0.687 - ETA: 26s - loss: 0.6263 - accuracy: 0.679 - ETA: 25s - loss: 0.6294 - accuracy: 0.687 - ETA: 25s - loss: 0.5930 - accuracy: 0.700 - ETA: 25s - loss: 0.5916 - accuracy: 0.704 - ETA: 25s - loss: 0.5836 - accuracy: 0.713 - ETA: 24s - loss: 0.6044 - accuracy: 0.706 - ETA: 24s - loss: 0.5872 - accuracy: 0.718 - ETA: 23s - loss: 0.5814 - accuracy: 0.720 - ETA: 23s - loss: 0.5625 - accuracy: 0.734 - ETA: 23s - loss: 0.5445 - accuracy: 0.746 - ETA: 22s - loss: 0.5404 - accuracy: 0.756 - ETA: 22s - loss: 0.5581 - accuracy: 0.750 - ETA: 21s - loss: 0.5547 - accuracy: 0.756 - ETA: 21s - loss: 0.5644 - accuracy: 0.756 - ETA: 21s - loss: 0.5511 - accuracy: 0.764 - ETA: 20s - loss: 0.5573 - accuracy: 0.760 - ETA: 20s - loss: 0.5657 - accuracy: 0.757 - ETA: 20s - loss: 0.5590 - accuracy: 0.757 - ETA: 19s - loss: 0.5550 - accuracy: 0.757 - ETA: 19s - loss: 0.5497 - accuracy: 0.756 - ETA: 18s - loss: 0.5424 - accuracy: 0.761 - ETA: 18s - loss: 0.5488 - accuracy: 0.756 - ETA: 18s - loss: 0.5564 - accuracy: 0.752 - ETA: 17s - loss: 0.5660 - accuracy: 0.746 - ETA: 17s - loss: 0.5680 - accuracy: 0.746 - ETA: 17s - loss: 0.5737 - accuracy: 0.740 - ETA: 16s - loss: 0.5765 - accuracy: 0.740 - ETA: 16s - loss: 0.5702 - accuracy: 0.742 - ETA: 15s - loss: 0.5625 - accuracy: 0.750 - ETA: 15s - loss: 0.5762 - accuracy: 0.748 - ETA: 14s - loss: 0.5716 - accuracy: 0.748 - ETA: 14s - loss: 0.5777 - accuracy: 0.748 - ETA: 14s - loss: 0.5712 - accuracy: 0.753 - ETA: 13s - loss: 0.5746 - accuracy: 0.752 - ETA: 13s - loss: 0.5701 - accuracy: 0.756 - ETA: 13s - loss: 0.5792 - accuracy: 0.756 - ETA: 12s - loss: 0.5746 - accuracy: 0.756 - ETA: 12s - loss: 0.5730 - accuracy: 0.757 - ETA: 12s - loss: 0.5689 - accuracy: 0.760 - ETA: 11s - loss: 0.5718 - accuracy: 0.755 - ETA: 11s - loss: 0.5672 - accuracy: 0.758 - ETA: 10s - loss: 0.5593 - accuracy: 0.763 - ETA: 10s - loss: 0.5565 - accuracy: 0.764 - ETA: 10s - loss: 0.5576 - accuracy: 0.764 - ETA: 9s - loss: 0.5556 - accuracy: 0.765 - ETA: 9s - loss: 0.5519 - accuracy: 0.76 - ETA: 9s - loss: 0.5539 - accuracy: 0.76 - ETA: 8s - loss: 0.5477 - accuracy: 0.76 - ETA: 8s - loss: 0.5567 - accuracy: 0.76 - ETA: 8s - loss: 0.5557 - accuracy: 0.76 - ETA: 7s - loss: 0.5558 - accuracy: 0.76 - ETA: 7s - loss: 0.5552 - accuracy: 0.76 - ETA: 6s - loss: 0.5540 - accuracy: 0.76 - ETA: 6s - loss: 0.5497 - accuracy: 0.77 - ETA: 6s - loss: 0.5473 - accuracy: 0.77 - ETA: 5s - loss: 0.5494 - accuracy: 0.77 - ETA: 5s - loss: 0.5495 - accuracy: 0.77 - ETA: 5s - loss: 0.5438 - accuracy: 0.77 - ETA: 4s - loss: 0.5418 - accuracy: 0.77 - ETA: 4s - loss: 0.5397 - accuracy: 0.77 - ETA: 4s - loss: 0.5351 - accuracy: 0.77 - ETA: 3s - loss: 0.5317 - accuracy: 0.77 - ETA: 3s - loss: 0.5298 - accuracy: 0.77 - ETA: 2s - loss: 0.5335 - accuracy: 0.77 - ETA: 2s - loss: 0.5339 - accuracy: 0.77 - ETA: 2s - loss: 0.5365 - accuracy: 0.77 - ETA: 1s - loss: 0.5350 - accuracy: 0.77 - ETA: 1s - loss: 0.5300 - accuracy: 0.77 - ETA: 1s - loss: 0.5320 - accuracy: 0.77 - ETA: 0s - loss: 0.5345 - accuracy: 0.77 - ETA: 0s - loss: 0.5343 - accuracy: 0.77 - ETA: 0s - loss: 0.5300 - accuracy: 0.77 - 32s 394ms/step - loss: 0.5280 - accuracy: 0.7810 - val_loss: 0.5568 - val_accuracy: 0.7886\n",
      "Epoch 3/20\n",
      "80/79 [==============================] - ETA: 30s - loss: 0.3769 - accuracy: 0.812 - ETA: 29s - loss: 0.4128 - accuracy: 0.781 - ETA: 28s - loss: 0.3711 - accuracy: 0.833 - ETA: 28s - loss: 0.3608 - accuracy: 0.843 - ETA: 27s - loss: 0.3594 - accuracy: 0.837 - ETA: 27s - loss: 0.3668 - accuracy: 0.843 - ETA: 26s - loss: 0.4175 - accuracy: 0.821 - ETA: 26s - loss: 0.3992 - accuracy: 0.835 - ETA: 26s - loss: 0.4038 - accuracy: 0.826 - ETA: 25s - loss: 0.4400 - accuracy: 0.812 - ETA: 25s - loss: 0.4727 - accuracy: 0.812 - ETA: 24s - loss: 0.4796 - accuracy: 0.802 - ETA: 24s - loss: 0.4676 - accuracy: 0.802 - ETA: 24s - loss: 0.4577 - accuracy: 0.808 - ETA: 23s - loss: 0.4442 - accuracy: 0.812 - ETA: 23s - loss: 0.4386 - accuracy: 0.812 - ETA: 22s - loss: 0.4326 - accuracy: 0.812 - ETA: 22s - loss: 0.4332 - accuracy: 0.805 - ETA: 22s - loss: 0.4293 - accuracy: 0.802 - ETA: 21s - loss: 0.4353 - accuracy: 0.800 - ETA: 21s - loss: 0.4308 - accuracy: 0.803 - ETA: 21s - loss: 0.4373 - accuracy: 0.795 - ETA: 20s - loss: 0.4381 - accuracy: 0.796 - ETA: 20s - loss: 0.4435 - accuracy: 0.791 - ETA: 19s - loss: 0.4445 - accuracy: 0.792 - ETA: 19s - loss: 0.4323 - accuracy: 0.800 - ETA: 19s - loss: 0.4357 - accuracy: 0.798 - ETA: 18s - loss: 0.4304 - accuracy: 0.803 - ETA: 18s - loss: 0.4285 - accuracy: 0.801 - ETA: 18s - loss: 0.4260 - accuracy: 0.804 - ETA: 17s - loss: 0.4175 - accuracy: 0.810 - ETA: 17s - loss: 0.4165 - accuracy: 0.814 - ETA: 17s - loss: 0.4258 - accuracy: 0.810 - ETA: 16s - loss: 0.4283 - accuracy: 0.805 - ETA: 16s - loss: 0.4257 - accuracy: 0.808 - ETA: 15s - loss: 0.4278 - accuracy: 0.809 - ETA: 15s - loss: 0.4190 - accuracy: 0.814 - ETA: 15s - loss: 0.4179 - accuracy: 0.815 - ETA: 14s - loss: 0.4305 - accuracy: 0.809 - ETA: 14s - loss: 0.4272 - accuracy: 0.812 - ETA: 14s - loss: 0.4249 - accuracy: 0.814 - ETA: 13s - loss: 0.4263 - accuracy: 0.814 - ETA: 13s - loss: 0.4189 - accuracy: 0.816 - ETA: 12s - loss: 0.4141 - accuracy: 0.818 - ETA: 12s - loss: 0.4158 - accuracy: 0.816 - ETA: 12s - loss: 0.4116 - accuracy: 0.819 - ETA: 11s - loss: 0.4104 - accuracy: 0.820 - ETA: 11s - loss: 0.4133 - accuracy: 0.820 - ETA: 11s - loss: 0.4235 - accuracy: 0.817 - ETA: 10s - loss: 0.4197 - accuracy: 0.817 - ETA: 10s - loss: 0.4227 - accuracy: 0.813 - ETA: 9s - loss: 0.4259 - accuracy: 0.811 - ETA: 9s - loss: 0.4248 - accuracy: 0.81 - ETA: 9s - loss: 0.4211 - accuracy: 0.81 - ETA: 8s - loss: 0.4203 - accuracy: 0.81 - ETA: 8s - loss: 0.4242 - accuracy: 0.81 - ETA: 8s - loss: 0.4204 - accuracy: 0.81 - ETA: 7s - loss: 0.4208 - accuracy: 0.81 - ETA: 7s - loss: 0.4175 - accuracy: 0.81 - ETA: 7s - loss: 0.4148 - accuracy: 0.81 - ETA: 6s - loss: 0.4175 - accuracy: 0.81 - ETA: 6s - loss: 0.4176 - accuracy: 0.81 - ETA: 5s - loss: 0.4201 - accuracy: 0.81 - ETA: 5s - loss: 0.4172 - accuracy: 0.81 - ETA: 5s - loss: 0.4153 - accuracy: 0.81 - ETA: 4s - loss: 0.4123 - accuracy: 0.81 - ETA: 4s - loss: 0.4150 - accuracy: 0.81 - ETA: 4s - loss: 0.4148 - accuracy: 0.81 - ETA: 3s - loss: 0.4143 - accuracy: 0.81 - ETA: 3s - loss: 0.4146 - accuracy: 0.81 - ETA: 2s - loss: 0.4117 - accuracy: 0.82 - ETA: 2s - loss: 0.4145 - accuracy: 0.82 - ETA: 2s - loss: 0.4117 - accuracy: 0.82 - ETA: 1s - loss: 0.4098 - accuracy: 0.82 - ETA: 1s - loss: 0.4083 - accuracy: 0.82 - ETA: 1s - loss: 0.4102 - accuracy: 0.82 - ETA: 0s - loss: 0.4063 - accuracy: 0.82 - ETA: 0s - loss: 0.4085 - accuracy: 0.82 - ETA: 0s - loss: 0.4118 - accuracy: 0.82 - 31s 392ms/step - loss: 0.4110 - accuracy: 0.8213 - val_loss: 0.3651 - val_accuracy: 0.8423\n",
      "Epoch 4/20\n",
      "80/79 [==============================] - ETA: 28s - loss: 0.6077 - accuracy: 0.812 - ETA: 28s - loss: 0.4356 - accuracy: 0.843 - ETA: 28s - loss: 0.4451 - accuracy: 0.833 - ETA: 27s - loss: 0.4117 - accuracy: 0.828 - ETA: 27s - loss: 0.4022 - accuracy: 0.825 - ETA: 27s - loss: 0.4262 - accuracy: 0.822 - ETA: 26s - loss: 0.4016 - accuracy: 0.839 - ETA: 26s - loss: 0.3734 - accuracy: 0.851 - ETA: 26s - loss: 0.4081 - accuracy: 0.833 - ETA: 25s - loss: 0.3804 - accuracy: 0.850 - ETA: 25s - loss: 0.4123 - accuracy: 0.829 - ETA: 25s - loss: 0.4150 - accuracy: 0.817 - ETA: 24s - loss: 0.4232 - accuracy: 0.812 - ETA: 24s - loss: 0.4170 - accuracy: 0.812 - ETA: 23s - loss: 0.4345 - accuracy: 0.808 - ETA: 23s - loss: 0.4411 - accuracy: 0.804 - ETA: 23s - loss: 0.4456 - accuracy: 0.805 - ETA: 22s - loss: 0.4325 - accuracy: 0.809 - ETA: 22s - loss: 0.4314 - accuracy: 0.812 - ETA: 21s - loss: 0.4405 - accuracy: 0.812 - ETA: 21s - loss: 0.4506 - accuracy: 0.809 - ETA: 21s - loss: 0.4477 - accuracy: 0.806 - ETA: 20s - loss: 0.4451 - accuracy: 0.809 - ETA: 20s - loss: 0.4628 - accuracy: 0.804 - ETA: 20s - loss: 0.4478 - accuracy: 0.812 - ETA: 19s - loss: 0.4515 - accuracy: 0.810 - ETA: 19s - loss: 0.4629 - accuracy: 0.810 - ETA: 18s - loss: 0.4565 - accuracy: 0.810 - ETA: 18s - loss: 0.4492 - accuracy: 0.814 - ETA: 18s - loss: 0.4439 - accuracy: 0.814 - ETA: 17s - loss: 0.4424 - accuracy: 0.812 - ETA: 17s - loss: 0.4500 - accuracy: 0.810 - ETA: 17s - loss: 0.4493 - accuracy: 0.810 - ETA: 16s - loss: 0.4457 - accuracy: 0.812 - ETA: 16s - loss: 0.4425 - accuracy: 0.810 - ETA: 15s - loss: 0.4442 - accuracy: 0.810 - ETA: 15s - loss: 0.4455 - accuracy: 0.810 - ETA: 15s - loss: 0.4454 - accuracy: 0.810 - ETA: 14s - loss: 0.4364 - accuracy: 0.815 - ETA: 14s - loss: 0.4448 - accuracy: 0.814 - ETA: 14s - loss: 0.4387 - accuracy: 0.815 - ETA: 13s - loss: 0.4374 - accuracy: 0.817 - ETA: 13s - loss: 0.4468 - accuracy: 0.815 - ETA: 13s - loss: 0.4412 - accuracy: 0.816 - ETA: 12s - loss: 0.4334 - accuracy: 0.820 - ETA: 12s - loss: 0.4327 - accuracy: 0.822 - ETA: 11s - loss: 0.4330 - accuracy: 0.821 - ETA: 11s - loss: 0.4281 - accuracy: 0.822 - ETA: 11s - loss: 0.4287 - accuracy: 0.824 - ETA: 10s - loss: 0.4345 - accuracy: 0.823 - ETA: 10s - loss: 0.4285 - accuracy: 0.826 - ETA: 9s - loss: 0.4493 - accuracy: 0.825 - ETA: 9s - loss: 0.4525 - accuracy: 0.82 - ETA: 9s - loss: 0.4523 - accuracy: 0.82 - ETA: 8s - loss: 0.4527 - accuracy: 0.81 - ETA: 8s - loss: 0.4510 - accuracy: 0.81 - ETA: 8s - loss: 0.4494 - accuracy: 0.82 - ETA: 7s - loss: 0.4532 - accuracy: 0.81 - ETA: 7s - loss: 0.4552 - accuracy: 0.81 - ETA: 7s - loss: 0.4509 - accuracy: 0.81 - ETA: 6s - loss: 0.4508 - accuracy: 0.81 - ETA: 6s - loss: 0.4487 - accuracy: 0.81 - ETA: 5s - loss: 0.4488 - accuracy: 0.81 - ETA: 5s - loss: 0.4472 - accuracy: 0.81 - ETA: 5s - loss: 0.4468 - accuracy: 0.81 - ETA: 4s - loss: 0.4434 - accuracy: 0.81 - ETA: 4s - loss: 0.4438 - accuracy: 0.81 - ETA: 4s - loss: 0.4392 - accuracy: 0.82 - ETA: 3s - loss: 0.4393 - accuracy: 0.81 - ETA: 3s - loss: 0.4415 - accuracy: 0.81 - ETA: 2s - loss: 0.4403 - accuracy: 0.81 - ETA: 2s - loss: 0.4377 - accuracy: 0.82 - ETA: 2s - loss: 0.4421 - accuracy: 0.81 - ETA: 1s - loss: 0.4433 - accuracy: 0.81 - ETA: 1s - loss: 0.4406 - accuracy: 0.82 - ETA: 1s - loss: 0.4454 - accuracy: 0.82 - ETA: 0s - loss: 0.4479 - accuracy: 0.81 - ETA: 0s - loss: 0.4442 - accuracy: 0.82 - ETA: 0s - loss: 0.4400 - accuracy: 0.82 - 32s 399ms/step - loss: 0.4352 - accuracy: 0.8253 - val_loss: 0.2970 - val_accuracy: 0.8644\n",
      "Epoch 5/20\n",
      "80/79 [==============================] - ETA: 28s - loss: 0.8187 - accuracy: 0.562 - ETA: 28s - loss: 0.5065 - accuracy: 0.750 - ETA: 32s - loss: 0.3994 - accuracy: 0.812 - ETA: 30s - loss: 0.3705 - accuracy: 0.828 - ETA: 29s - loss: 0.3404 - accuracy: 0.850 - ETA: 29s - loss: 0.3629 - accuracy: 0.843 - ETA: 28s - loss: 0.3819 - accuracy: 0.839 - ETA: 27s - loss: 0.3862 - accuracy: 0.835 - ETA: 27s - loss: 0.3878 - accuracy: 0.840 - ETA: 26s - loss: 0.3673 - accuracy: 0.856 - ETA: 26s - loss: 0.3954 - accuracy: 0.835 - ETA: 25s - loss: 0.3769 - accuracy: 0.843 - ETA: 25s - loss: 0.3827 - accuracy: 0.841 - ETA: 24s - loss: 0.3824 - accuracy: 0.839 - ETA: 24s - loss: 0.3828 - accuracy: 0.837 - ETA: 24s - loss: 0.4191 - accuracy: 0.820 - ETA: 23s - loss: 0.4235 - accuracy: 0.823 - ETA: 22s - loss: 0.4859 - accuracy: 0.820 - ETA: 22s - loss: 0.4899 - accuracy: 0.816 - ETA: 21s - loss: 0.4872 - accuracy: 0.816 - ETA: 21s - loss: 0.4728 - accuracy: 0.822 - ETA: 21s - loss: 0.4569 - accuracy: 0.830 - ETA: 20s - loss: 0.4467 - accuracy: 0.832 - ETA: 20s - loss: 0.4429 - accuracy: 0.832 - ETA: 20s - loss: 0.4357 - accuracy: 0.833 - ETA: 19s - loss: 0.4260 - accuracy: 0.835 - ETA: 19s - loss: 0.4377 - accuracy: 0.834 - ETA: 18s - loss: 0.4345 - accuracy: 0.836 - ETA: 18s - loss: 0.4240 - accuracy: 0.841 - ETA: 18s - loss: 0.4187 - accuracy: 0.843 - ETA: 18s - loss: 0.4104 - accuracy: 0.848 - ETA: 17s - loss: 0.4054 - accuracy: 0.851 - ETA: 17s - loss: 0.3996 - accuracy: 0.851 - ETA: 17s - loss: 0.4017 - accuracy: 0.852 - ETA: 16s - loss: 0.3985 - accuracy: 0.851 - ETA: 16s - loss: 0.3956 - accuracy: 0.853 - ETA: 16s - loss: 0.3885 - accuracy: 0.857 - ETA: 15s - loss: 0.4029 - accuracy: 0.855 - ETA: 15s - loss: 0.4012 - accuracy: 0.852 - ETA: 14s - loss: 0.4122 - accuracy: 0.851 - ETA: 14s - loss: 0.4244 - accuracy: 0.848 - ETA: 14s - loss: 0.4252 - accuracy: 0.849 - ETA: 13s - loss: 0.4256 - accuracy: 0.849 - ETA: 13s - loss: 0.4209 - accuracy: 0.852 - ETA: 12s - loss: 0.4157 - accuracy: 0.853 - ETA: 12s - loss: 0.4149 - accuracy: 0.853 - ETA: 12s - loss: 0.4123 - accuracy: 0.852 - ETA: 11s - loss: 0.4169 - accuracy: 0.851 - ETA: 11s - loss: 0.4195 - accuracy: 0.849 - ETA: 11s - loss: 0.4151 - accuracy: 0.851 - ETA: 10s - loss: 0.4094 - accuracy: 0.853 - ETA: 10s - loss: 0.4054 - accuracy: 0.855 - ETA: 9s - loss: 0.4048 - accuracy: 0.854 - ETA: 9s - loss: 0.4020 - accuracy: 0.85 - ETA: 9s - loss: 0.3998 - accuracy: 0.85 - ETA: 8s - loss: 0.4021 - accuracy: 0.85 - ETA: 8s - loss: 0.3972 - accuracy: 0.85 - ETA: 7s - loss: 0.3977 - accuracy: 0.85 - ETA: 7s - loss: 0.3934 - accuracy: 0.86 - ETA: 7s - loss: 0.3975 - accuracy: 0.86 - ETA: 6s - loss: 0.3962 - accuracy: 0.86 - ETA: 6s - loss: 0.3927 - accuracy: 0.86 - ETA: 6s - loss: 0.3963 - accuracy: 0.86 - ETA: 5s - loss: 0.3944 - accuracy: 0.86 - ETA: 5s - loss: 0.3923 - accuracy: 0.86 - ETA: 4s - loss: 0.3972 - accuracy: 0.86 - ETA: 4s - loss: 0.3978 - accuracy: 0.86 - ETA: 4s - loss: 0.3937 - accuracy: 0.86 - ETA: 3s - loss: 0.3944 - accuracy: 0.86 - ETA: 3s - loss: 0.3984 - accuracy: 0.85 - ETA: 3s - loss: 0.4052 - accuracy: 0.85 - ETA: 2s - loss: 0.4085 - accuracy: 0.85 - ETA: 2s - loss: 0.4056 - accuracy: 0.85 - ETA: 1s - loss: 0.4061 - accuracy: 0.85 - ETA: 1s - loss: 0.4070 - accuracy: 0.85 - ETA: 1s - loss: 0.4059 - accuracy: 0.85 - ETA: 0s - loss: 0.4065 - accuracy: 0.85 - ETA: 0s - loss: 0.4120 - accuracy: 0.85 - ETA: 0s - loss: 0.4159 - accuracy: 0.85 - 32s 405ms/step - loss: 0.4157 - accuracy: 0.8506 - val_loss: 0.4239 - val_accuracy: 0.8360\n",
      "Epoch 6/20\n"
     ]
    },
    {
     "name": "stdout",
     "output_type": "stream",
     "text": [
      "80/79 [==============================] - ETA: 27s - loss: 0.3007 - accuracy: 0.875 - ETA: 27s - loss: 0.4030 - accuracy: 0.781 - ETA: 27s - loss: 0.3247 - accuracy: 0.833 - ETA: 27s - loss: 0.4202 - accuracy: 0.781 - ETA: 26s - loss: 0.4161 - accuracy: 0.775 - ETA: 26s - loss: 0.4370 - accuracy: 0.770 - ETA: 26s - loss: 0.4624 - accuracy: 0.767 - ETA: 25s - loss: 0.4592 - accuracy: 0.773 - ETA: 25s - loss: 0.4704 - accuracy: 0.777 - ETA: 25s - loss: 0.4511 - accuracy: 0.787 - ETA: 24s - loss: 0.4439 - accuracy: 0.795 - ETA: 24s - loss: 0.4365 - accuracy: 0.807 - ETA: 24s - loss: 0.4635 - accuracy: 0.798 - ETA: 24s - loss: 0.4481 - accuracy: 0.803 - ETA: 23s - loss: 0.4467 - accuracy: 0.804 - ETA: 23s - loss: 0.4524 - accuracy: 0.796 - ETA: 22s - loss: 0.4388 - accuracy: 0.801 - ETA: 22s - loss: 0.4654 - accuracy: 0.798 - ETA: 22s - loss: 0.4608 - accuracy: 0.799 - ETA: 21s - loss: 0.4525 - accuracy: 0.803 - ETA: 21s - loss: 0.4463 - accuracy: 0.803 - ETA: 21s - loss: 0.4407 - accuracy: 0.804 - ETA: 20s - loss: 0.4351 - accuracy: 0.807 - ETA: 19s - loss: 0.4261 - accuracy: 0.807 - ETA: 19s - loss: 0.4146 - accuracy: 0.815 - ETA: 19s - loss: 0.4172 - accuracy: 0.810 - ETA: 18s - loss: 0.4164 - accuracy: 0.810 - ETA: 18s - loss: 0.4054 - accuracy: 0.817 - ETA: 18s - loss: 0.4003 - accuracy: 0.819 - ETA: 17s - loss: 0.3921 - accuracy: 0.825 - ETA: 17s - loss: 0.3873 - accuracy: 0.829 - ETA: 17s - loss: 0.3975 - accuracy: 0.827 - ETA: 16s - loss: 0.3900 - accuracy: 0.828 - ETA: 16s - loss: 0.3947 - accuracy: 0.826 - ETA: 16s - loss: 0.3882 - accuracy: 0.827 - ETA: 15s - loss: 0.3908 - accuracy: 0.825 - ETA: 15s - loss: 0.3863 - accuracy: 0.826 - ETA: 15s - loss: 0.3819 - accuracy: 0.828 - ETA: 14s - loss: 0.3880 - accuracy: 0.825 - ETA: 14s - loss: 0.3827 - accuracy: 0.828 - ETA: 13s - loss: 0.3881 - accuracy: 0.823 - ETA: 13s - loss: 0.3918 - accuracy: 0.821 - ETA: 13s - loss: 0.3881 - accuracy: 0.824 - ETA: 12s - loss: 0.3816 - accuracy: 0.828 - ETA: 12s - loss: 0.3780 - accuracy: 0.831 - ETA: 12s - loss: 0.3727 - accuracy: 0.833 - ETA: 11s - loss: 0.3718 - accuracy: 0.834 - ETA: 11s - loss: 0.3700 - accuracy: 0.834 - ETA: 10s - loss: 0.3638 - accuracy: 0.837 - ETA: 10s - loss: 0.3613 - accuracy: 0.839 - ETA: 10s - loss: 0.3574 - accuracy: 0.841 - ETA: 9s - loss: 0.3562 - accuracy: 0.840 - ETA: 9s - loss: 0.3555 - accuracy: 0.84 - ETA: 9s - loss: 0.3641 - accuracy: 0.83 - ETA: 8s - loss: 0.3655 - accuracy: 0.84 - ETA: 8s - loss: 0.3627 - accuracy: 0.84 - ETA: 8s - loss: 0.3578 - accuracy: 0.84 - ETA: 7s - loss: 0.3665 - accuracy: 0.84 - ETA: 7s - loss: 0.3654 - accuracy: 0.84 - ETA: 6s - loss: 0.3618 - accuracy: 0.84 - ETA: 6s - loss: 0.3590 - accuracy: 0.84 - ETA: 6s - loss: 0.3568 - accuracy: 0.84 - ETA: 5s - loss: 0.3561 - accuracy: 0.84 - ETA: 5s - loss: 0.3577 - accuracy: 0.84 - ETA: 5s - loss: 0.3563 - accuracy: 0.84 - ETA: 4s - loss: 0.3542 - accuracy: 0.84 - ETA: 4s - loss: 0.3520 - accuracy: 0.84 - ETA: 4s - loss: 0.3500 - accuracy: 0.84 - ETA: 3s - loss: 0.3469 - accuracy: 0.84 - ETA: 3s - loss: 0.3464 - accuracy: 0.84 - ETA: 2s - loss: 0.3457 - accuracy: 0.84 - ETA: 2s - loss: 0.3446 - accuracy: 0.84 - ETA: 2s - loss: 0.3437 - accuracy: 0.84 - ETA: 1s - loss: 0.3417 - accuracy: 0.84 - ETA: 1s - loss: 0.3401 - accuracy: 0.84 - ETA: 1s - loss: 0.3406 - accuracy: 0.84 - ETA: 0s - loss: 0.3389 - accuracy: 0.84 - ETA: 0s - loss: 0.3390 - accuracy: 0.84 - ETA: 0s - loss: 0.3468 - accuracy: 0.84 - 31s 393ms/step - loss: 0.3497 - accuracy: 0.8451 - val_loss: 0.3088 - val_accuracy: 0.8770\n",
      "Epoch 7/20\n",
      "80/79 [==============================] - ETA: 28s - loss: 0.3877 - accuracy: 0.875 - ETA: 28s - loss: 0.3386 - accuracy: 0.875 - ETA: 27s - loss: 0.4279 - accuracy: 0.833 - ETA: 27s - loss: 0.4404 - accuracy: 0.828 - ETA: 27s - loss: 0.4689 - accuracy: 0.812 - ETA: 26s - loss: 0.4560 - accuracy: 0.802 - ETA: 26s - loss: 0.4142 - accuracy: 0.830 - ETA: 26s - loss: 0.3788 - accuracy: 0.851 - ETA: 25s - loss: 0.3731 - accuracy: 0.854 - ETA: 25s - loss: 0.3566 - accuracy: 0.850 - ETA: 24s - loss: 0.3764 - accuracy: 0.835 - ETA: 24s - loss: 0.3606 - accuracy: 0.849 - ETA: 24s - loss: 0.3504 - accuracy: 0.855 - ETA: 23s - loss: 0.3547 - accuracy: 0.857 - ETA: 23s - loss: 0.3379 - accuracy: 0.862 - ETA: 23s - loss: 0.3744 - accuracy: 0.859 - ETA: 22s - loss: 0.3599 - accuracy: 0.867 - ETA: 22s - loss: 0.3796 - accuracy: 0.864 - ETA: 22s - loss: 0.3725 - accuracy: 0.868 - ETA: 21s - loss: 0.3697 - accuracy: 0.865 - ETA: 21s - loss: 0.3669 - accuracy: 0.866 - ETA: 20s - loss: 0.3640 - accuracy: 0.866 - ETA: 20s - loss: 0.3542 - accuracy: 0.872 - ETA: 20s - loss: 0.3599 - accuracy: 0.867 - ETA: 19s - loss: 0.3699 - accuracy: 0.860 - ETA: 19s - loss: 0.3612 - accuracy: 0.865 - ETA: 19s - loss: 0.3613 - accuracy: 0.863 - ETA: 18s - loss: 0.3521 - accuracy: 0.868 - ETA: 18s - loss: 0.3558 - accuracy: 0.866 - ETA: 17s - loss: 0.3501 - accuracy: 0.866 - ETA: 17s - loss: 0.3546 - accuracy: 0.864 - ETA: 17s - loss: 0.3509 - accuracy: 0.865 - ETA: 16s - loss: 0.3464 - accuracy: 0.867 - ETA: 16s - loss: 0.3423 - accuracy: 0.869 - ETA: 16s - loss: 0.3364 - accuracy: 0.871 - ETA: 15s - loss: 0.3294 - accuracy: 0.875 - ETA: 15s - loss: 0.3357 - accuracy: 0.873 - ETA: 15s - loss: 0.3327 - accuracy: 0.873 - ETA: 14s - loss: 0.3293 - accuracy: 0.875 - ETA: 14s - loss: 0.3385 - accuracy: 0.872 - ETA: 13s - loss: 0.3383 - accuracy: 0.872 - ETA: 13s - loss: 0.3339 - accuracy: 0.873 - ETA: 13s - loss: 0.3339 - accuracy: 0.873 - ETA: 12s - loss: 0.3324 - accuracy: 0.873 - ETA: 12s - loss: 0.3290 - accuracy: 0.873 - ETA: 12s - loss: 0.3266 - accuracy: 0.875 - ETA: 11s - loss: 0.3260 - accuracy: 0.876 - ETA: 11s - loss: 0.3255 - accuracy: 0.876 - ETA: 11s - loss: 0.3241 - accuracy: 0.875 - ETA: 10s - loss: 0.3206 - accuracy: 0.876 - ETA: 10s - loss: 0.3257 - accuracy: 0.876 - ETA: 9s - loss: 0.3316 - accuracy: 0.872 - ETA: 9s - loss: 0.3571 - accuracy: 0.86 - ETA: 9s - loss: 0.3562 - accuracy: 0.86 - ETA: 8s - loss: 0.3551 - accuracy: 0.86 - ETA: 8s - loss: 0.3649 - accuracy: 0.86 - ETA: 8s - loss: 0.3659 - accuracy: 0.86 - ETA: 7s - loss: 0.3650 - accuracy: 0.86 - ETA: 7s - loss: 0.3673 - accuracy: 0.86 - ETA: 7s - loss: 0.3642 - accuracy: 0.86 - ETA: 6s - loss: 0.3615 - accuracy: 0.87 - ETA: 6s - loss: 0.3607 - accuracy: 0.87 - ETA: 5s - loss: 0.3660 - accuracy: 0.86 - ETA: 5s - loss: 0.3654 - accuracy: 0.86 - ETA: 5s - loss: 0.3643 - accuracy: 0.86 - ETA: 4s - loss: 0.3619 - accuracy: 0.86 - ETA: 4s - loss: 0.3636 - accuracy: 0.86 - ETA: 4s - loss: 0.3630 - accuracy: 0.86 - ETA: 3s - loss: 0.3636 - accuracy: 0.86 - ETA: 3s - loss: 0.3600 - accuracy: 0.86 - ETA: 2s - loss: 0.3653 - accuracy: 0.86 - ETA: 2s - loss: 0.3635 - accuracy: 0.86 - ETA: 2s - loss: 0.3655 - accuracy: 0.86 - ETA: 1s - loss: 0.3654 - accuracy: 0.86 - ETA: 1s - loss: 0.3612 - accuracy: 0.87 - ETA: 1s - loss: 0.3664 - accuracy: 0.86 - ETA: 0s - loss: 0.3671 - accuracy: 0.86 - ETA: 0s - loss: 0.3697 - accuracy: 0.86 - ETA: 0s - loss: 0.3731 - accuracy: 0.86 - 32s 397ms/step - loss: 0.3719 - accuracy: 0.8648 - val_loss: 0.5673 - val_accuracy: 0.7855\n",
      "Epoch 8/20\n",
      "80/79 [==============================] - ETA: 28s - loss: 0.3923 - accuracy: 0.812 - ETA: 28s - loss: 0.4119 - accuracy: 0.812 - ETA: 29s - loss: 0.3560 - accuracy: 0.833 - ETA: 29s - loss: 0.3378 - accuracy: 0.859 - ETA: 28s - loss: 0.3185 - accuracy: 0.875 - ETA: 28s - loss: 0.3167 - accuracy: 0.875 - ETA: 26s - loss: 0.5342 - accuracy: 0.866 - ETA: 25s - loss: 0.4965 - accuracy: 0.867 - ETA: 25s - loss: 0.4824 - accuracy: 0.860 - ETA: 25s - loss: 0.5046 - accuracy: 0.848 - ETA: 24s - loss: 0.4783 - accuracy: 0.857 - ETA: 24s - loss: 0.4687 - accuracy: 0.853 - ETA: 24s - loss: 0.4464 - accuracy: 0.860 - ETA: 23s - loss: 0.4719 - accuracy: 0.842 - ETA: 23s - loss: 0.4521 - accuracy: 0.844 - ETA: 23s - loss: 0.4427 - accuracy: 0.846 - ETA: 22s - loss: 0.4389 - accuracy: 0.844 - ETA: 22s - loss: 0.4259 - accuracy: 0.849 - ETA: 22s - loss: 0.4176 - accuracy: 0.851 - ETA: 21s - loss: 0.4003 - accuracy: 0.859 - ETA: 21s - loss: 0.3882 - accuracy: 0.862 - ETA: 21s - loss: 0.3927 - accuracy: 0.851 - ETA: 20s - loss: 0.3832 - accuracy: 0.852 - ETA: 20s - loss: 0.3811 - accuracy: 0.853 - ETA: 19s - loss: 0.3764 - accuracy: 0.851 - ETA: 19s - loss: 0.3874 - accuracy: 0.850 - ETA: 19s - loss: 0.3760 - accuracy: 0.856 - ETA: 18s - loss: 0.3755 - accuracy: 0.852 - ETA: 18s - loss: 0.3696 - accuracy: 0.853 - ETA: 18s - loss: 0.3698 - accuracy: 0.851 - ETA: 17s - loss: 0.3681 - accuracy: 0.852 - ETA: 17s - loss: 0.3681 - accuracy: 0.855 - ETA: 16s - loss: 0.3679 - accuracy: 0.855 - ETA: 16s - loss: 0.3602 - accuracy: 0.858 - ETA: 16s - loss: 0.3570 - accuracy: 0.858 - ETA: 15s - loss: 0.3565 - accuracy: 0.859 - ETA: 15s - loss: 0.3618 - accuracy: 0.857 - ETA: 15s - loss: 0.3562 - accuracy: 0.860 - ETA: 14s - loss: 0.3580 - accuracy: 0.860 - ETA: 14s - loss: 0.3541 - accuracy: 0.862 - ETA: 14s - loss: 0.3666 - accuracy: 0.861 - ETA: 13s - loss: 0.3697 - accuracy: 0.860 - ETA: 13s - loss: 0.3731 - accuracy: 0.858 - ETA: 12s - loss: 0.3715 - accuracy: 0.859 - ETA: 12s - loss: 0.3719 - accuracy: 0.859 - ETA: 12s - loss: 0.3762 - accuracy: 0.859 - ETA: 11s - loss: 0.3780 - accuracy: 0.858 - ETA: 11s - loss: 0.3921 - accuracy: 0.855 - ETA: 11s - loss: 0.3894 - accuracy: 0.855 - ETA: 10s - loss: 0.3848 - accuracy: 0.857 - ETA: 10s - loss: 0.3793 - accuracy: 0.860 - ETA: 9s - loss: 0.3763 - accuracy: 0.861 - ETA: 9s - loss: 0.3728 - accuracy: 0.86 - ETA: 9s - loss: 0.3811 - accuracy: 0.85 - ETA: 8s - loss: 0.3808 - accuracy: 0.85 - ETA: 8s - loss: 0.3798 - accuracy: 0.85 - ETA: 8s - loss: 0.3804 - accuracy: 0.85 - ETA: 7s - loss: 0.3755 - accuracy: 0.85 - ETA: 7s - loss: 0.3756 - accuracy: 0.85 - ETA: 7s - loss: 0.3713 - accuracy: 0.85 - ETA: 6s - loss: 0.3738 - accuracy: 0.85 - ETA: 6s - loss: 0.3778 - accuracy: 0.85 - ETA: 5s - loss: 0.3797 - accuracy: 0.85 - ETA: 5s - loss: 0.3837 - accuracy: 0.85 - ETA: 5s - loss: 0.3843 - accuracy: 0.85 - ETA: 4s - loss: 0.3809 - accuracy: 0.85 - ETA: 4s - loss: 0.3790 - accuracy: 0.85 - ETA: 4s - loss: 0.3801 - accuracy: 0.85 - ETA: 3s - loss: 0.3797 - accuracy: 0.85 - ETA: 3s - loss: 0.3853 - accuracy: 0.84 - ETA: 2s - loss: 0.3864 - accuracy: 0.84 - ETA: 2s - loss: 0.3841 - accuracy: 0.85 - ETA: 2s - loss: 0.3823 - accuracy: 0.85 - ETA: 1s - loss: 0.3825 - accuracy: 0.84 - ETA: 1s - loss: 0.3829 - accuracy: 0.84 - ETA: 1s - loss: 0.3798 - accuracy: 0.85 - ETA: 0s - loss: 0.3782 - accuracy: 0.85 - ETA: 0s - loss: 0.3779 - accuracy: 0.85 - ETA: 0s - loss: 0.3819 - accuracy: 0.85 - 32s 399ms/step - loss: 0.3789 - accuracy: 0.8514 - val_loss: 0.2784 - val_accuracy: 0.9085\n",
      "Epoch 9/20\n",
      "80/79 [==============================] - ETA: 28s - loss: 0.3648 - accuracy: 0.812 - ETA: 28s - loss: 0.3451 - accuracy: 0.812 - ETA: 28s - loss: 0.4546 - accuracy: 0.791 - ETA: 27s - loss: 0.4136 - accuracy: 0.796 - ETA: 27s - loss: 0.3653 - accuracy: 0.825 - ETA: 27s - loss: 0.3520 - accuracy: 0.822 - ETA: 26s - loss: 0.3147 - accuracy: 0.848 - ETA: 26s - loss: 0.3111 - accuracy: 0.843 - ETA: 26s - loss: 0.2920 - accuracy: 0.854 - ETA: 25s - loss: 0.2941 - accuracy: 0.850 - ETA: 25s - loss: 0.2936 - accuracy: 0.858 - ETA: 24s - loss: 0.3060 - accuracy: 0.859 - ETA: 24s - loss: 0.2962 - accuracy: 0.865 - ETA: 24s - loss: 0.2990 - accuracy: 0.866 - ETA: 23s - loss: 0.3038 - accuracy: 0.862 - ETA: 23s - loss: 0.3082 - accuracy: 0.855 - ETA: 23s - loss: 0.3116 - accuracy: 0.856 - ETA: 22s - loss: 0.3354 - accuracy: 0.854 - ETA: 22s - loss: 0.3390 - accuracy: 0.848 - ETA: 21s - loss: 0.3416 - accuracy: 0.843 - ETA: 21s - loss: 0.3497 - accuracy: 0.839 - ETA: 21s - loss: 0.3500 - accuracy: 0.840 - ETA: 20s - loss: 0.3456 - accuracy: 0.842 - ETA: 20s - loss: 0.3501 - accuracy: 0.838 - ETA: 20s - loss: 0.3461 - accuracy: 0.840 - ETA: 19s - loss: 0.3368 - accuracy: 0.846 - ETA: 18s - loss: 0.3304 - accuracy: 0.846 - ETA: 18s - loss: 0.3289 - accuracy: 0.845 - ETA: 18s - loss: 0.3369 - accuracy: 0.844 - ETA: 17s - loss: 0.3326 - accuracy: 0.847 - ETA: 17s - loss: 0.3285 - accuracy: 0.850 - ETA: 17s - loss: 0.3376 - accuracy: 0.847 - ETA: 16s - loss: 0.3486 - accuracy: 0.846 - ETA: 16s - loss: 0.3475 - accuracy: 0.846 - ETA: 16s - loss: 0.3416 - accuracy: 0.849 - ETA: 15s - loss: 0.3478 - accuracy: 0.848 - ETA: 15s - loss: 0.3433 - accuracy: 0.851 - ETA: 15s - loss: 0.3492 - accuracy: 0.846 - ETA: 14s - loss: 0.3483 - accuracy: 0.847 - ETA: 14s - loss: 0.3509 - accuracy: 0.846 - ETA: 13s - loss: 0.3473 - accuracy: 0.847 - ETA: 13s - loss: 0.3452 - accuracy: 0.849 - ETA: 13s - loss: 0.3474 - accuracy: 0.849 - ETA: 12s - loss: 0.3425 - accuracy: 0.852 - ETA: 12s - loss: 0.3367 - accuracy: 0.855 - ETA: 12s - loss: 0.3394 - accuracy: 0.853 - ETA: 11s - loss: 0.3389 - accuracy: 0.852 - ETA: 11s - loss: 0.3368 - accuracy: 0.853 - ETA: 11s - loss: 0.3360 - accuracy: 0.854 - ETA: 10s - loss: 0.3320 - accuracy: 0.856 - ETA: 10s - loss: 0.3316 - accuracy: 0.856 - ETA: 9s - loss: 0.3395 - accuracy: 0.853 - ETA: 9s - loss: 0.3402 - accuracy: 0.85 - ETA: 9s - loss: 0.3356 - accuracy: 0.85 - ETA: 8s - loss: 0.3423 - accuracy: 0.85 - ETA: 8s - loss: 0.3411 - accuracy: 0.85 - ETA: 8s - loss: 0.3421 - accuracy: 0.85 - ETA: 7s - loss: 0.3418 - accuracy: 0.85 - ETA: 7s - loss: 0.3379 - accuracy: 0.85 - ETA: 7s - loss: 0.3336 - accuracy: 0.85 - ETA: 6s - loss: 0.3350 - accuracy: 0.85 - ETA: 6s - loss: 0.3338 - accuracy: 0.85 - ETA: 5s - loss: 0.3370 - accuracy: 0.85 - ETA: 5s - loss: 0.3423 - accuracy: 0.85 - ETA: 5s - loss: 0.3421 - accuracy: 0.85 - ETA: 4s - loss: 0.3440 - accuracy: 0.85 - ETA: 4s - loss: 0.3428 - accuracy: 0.85 - ETA: 4s - loss: 0.3458 - accuracy: 0.85 - ETA: 3s - loss: 0.3432 - accuracy: 0.85 - ETA: 3s - loss: 0.3397 - accuracy: 0.85 - ETA: 2s - loss: 0.3379 - accuracy: 0.85 - ETA: 2s - loss: 0.3455 - accuracy: 0.85 - ETA: 2s - loss: 0.3461 - accuracy: 0.85 - ETA: 1s - loss: 0.3455 - accuracy: 0.85 - ETA: 1s - loss: 0.3467 - accuracy: 0.85 - ETA: 1s - loss: 0.3464 - accuracy: 0.85 - ETA: 0s - loss: 0.3469 - accuracy: 0.85 - ETA: 0s - loss: 0.3505 - accuracy: 0.85 - ETA: 0s - loss: 0.3506 - accuracy: 0.85 - 32s 394ms/step - loss: 0.3481 - accuracy: 0.8538 - val_loss: 0.3006 - val_accuracy: 0.8864\n",
      "Epoch 10/20\n"
     ]
    },
    {
     "name": "stdout",
     "output_type": "stream",
     "text": [
      "80/79 [==============================] - ETA: 29s - loss: 0.2720 - accuracy: 0.875 - ETA: 28s - loss: 0.5177 - accuracy: 0.750 - ETA: 28s - loss: 0.4791 - accuracy: 0.770 - ETA: 27s - loss: 0.4359 - accuracy: 0.781 - ETA: 27s - loss: 0.4257 - accuracy: 0.800 - ETA: 27s - loss: 0.3960 - accuracy: 0.822 - ETA: 26s - loss: 0.3509 - accuracy: 0.848 - ETA: 26s - loss: 0.3216 - accuracy: 0.867 - ETA: 25s - loss: 0.3202 - accuracy: 0.861 - ETA: 25s - loss: 0.2986 - accuracy: 0.875 - ETA: 25s - loss: 0.3025 - accuracy: 0.863 - ETA: 25s - loss: 0.3454 - accuracy: 0.849 - ETA: 24s - loss: 0.3320 - accuracy: 0.855 - ETA: 24s - loss: 0.3522 - accuracy: 0.852 - ETA: 23s - loss: 0.3511 - accuracy: 0.850 - ETA: 23s - loss: 0.3521 - accuracy: 0.847 - ETA: 23s - loss: 0.3412 - accuracy: 0.852 - ETA: 22s - loss: 0.3610 - accuracy: 0.843 - ETA: 22s - loss: 0.3681 - accuracy: 0.838 - ETA: 22s - loss: 0.3788 - accuracy: 0.840 - ETA: 21s - loss: 0.3734 - accuracy: 0.842 - ETA: 21s - loss: 0.3708 - accuracy: 0.843 - ETA: 20s - loss: 0.3603 - accuracy: 0.847 - ETA: 20s - loss: 0.3599 - accuracy: 0.846 - ETA: 20s - loss: 0.3568 - accuracy: 0.842 - ETA: 19s - loss: 0.3627 - accuracy: 0.838 - ETA: 19s - loss: 0.3613 - accuracy: 0.840 - ETA: 19s - loss: 0.3719 - accuracy: 0.837 - ETA: 18s - loss: 0.3664 - accuracy: 0.838 - ETA: 18s - loss: 0.3616 - accuracy: 0.841 - ETA: 17s - loss: 0.3602 - accuracy: 0.842 - ETA: 17s - loss: 0.3623 - accuracy: 0.841 - ETA: 17s - loss: 0.3675 - accuracy: 0.835 - ETA: 16s - loss: 0.3637 - accuracy: 0.836 - ETA: 16s - loss: 0.3583 - accuracy: 0.839 - ETA: 16s - loss: 0.3563 - accuracy: 0.840 - ETA: 15s - loss: 0.3554 - accuracy: 0.841 - ETA: 15s - loss: 0.3512 - accuracy: 0.842 - ETA: 14s - loss: 0.3474 - accuracy: 0.842 - ETA: 14s - loss: 0.3517 - accuracy: 0.842 - ETA: 14s - loss: 0.3569 - accuracy: 0.838 - ETA: 13s - loss: 0.3535 - accuracy: 0.840 - ETA: 13s - loss: 0.3544 - accuracy: 0.840 - ETA: 13s - loss: 0.3597 - accuracy: 0.842 - ETA: 12s - loss: 0.3565 - accuracy: 0.844 - ETA: 12s - loss: 0.3538 - accuracy: 0.845 - ETA: 12s - loss: 0.3502 - accuracy: 0.847 - ETA: 11s - loss: 0.3560 - accuracy: 0.842 - ETA: 11s - loss: 0.3563 - accuracy: 0.841 - ETA: 10s - loss: 0.3578 - accuracy: 0.841 - ETA: 10s - loss: 0.3534 - accuracy: 0.843 - ETA: 10s - loss: 0.3498 - accuracy: 0.843 - ETA: 9s - loss: 0.3502 - accuracy: 0.844 - ETA: 9s - loss: 0.3492 - accuracy: 0.84 - ETA: 9s - loss: 0.3488 - accuracy: 0.84 - ETA: 8s - loss: 0.3466 - accuracy: 0.84 - ETA: 8s - loss: 0.3433 - accuracy: 0.85 - ETA: 7s - loss: 0.3493 - accuracy: 0.85 - ETA: 7s - loss: 0.3466 - accuracy: 0.85 - ETA: 7s - loss: 0.3433 - accuracy: 0.85 - ETA: 6s - loss: 0.3465 - accuracy: 0.85 - ETA: 6s - loss: 0.3433 - accuracy: 0.85 - ETA: 5s - loss: 0.3436 - accuracy: 0.85 - ETA: 5s - loss: 0.3472 - accuracy: 0.85 - ETA: 5s - loss: 0.3438 - accuracy: 0.85 - ETA: 4s - loss: 0.3448 - accuracy: 0.85 - ETA: 4s - loss: 0.3431 - accuracy: 0.85 - ETA: 4s - loss: 0.3401 - accuracy: 0.85 - ETA: 3s - loss: 0.3388 - accuracy: 0.85 - ETA: 3s - loss: 0.3359 - accuracy: 0.85 - ETA: 2s - loss: 0.3368 - accuracy: 0.85 - ETA: 2s - loss: 0.3350 - accuracy: 0.85 - ETA: 2s - loss: 0.3326 - accuracy: 0.85 - ETA: 1s - loss: 0.3333 - accuracy: 0.85 - ETA: 1s - loss: 0.3354 - accuracy: 0.85 - ETA: 1s - loss: 0.3342 - accuracy: 0.85 - ETA: 0s - loss: 0.3318 - accuracy: 0.85 - ETA: 0s - loss: 0.3323 - accuracy: 0.85 - ETA: 0s - loss: 0.3327 - accuracy: 0.85 - 32s 398ms/step - loss: 0.3367 - accuracy: 0.8577 - val_loss: 0.2691 - val_accuracy: 0.8959\n",
      "Epoch 11/20\n",
      "80/79 [==============================] - ETA: 28s - loss: 0.7752 - accuracy: 0.812 - ETA: 28s - loss: 0.4751 - accuracy: 0.875 - ETA: 27s - loss: 0.4258 - accuracy: 0.895 - ETA: 27s - loss: 0.3553 - accuracy: 0.906 - ETA: 27s - loss: 0.3849 - accuracy: 0.875 - ETA: 27s - loss: 0.3515 - accuracy: 0.885 - ETA: 26s - loss: 0.3231 - accuracy: 0.901 - ETA: 26s - loss: 0.2955 - accuracy: 0.914 - ETA: 26s - loss: 0.3007 - accuracy: 0.909 - ETA: 26s - loss: 0.2832 - accuracy: 0.912 - ETA: 25s - loss: 0.2709 - accuracy: 0.920 - ETA: 25s - loss: 0.3155 - accuracy: 0.906 - ETA: 24s - loss: 0.3037 - accuracy: 0.903 - ETA: 24s - loss: 0.2953 - accuracy: 0.906 - ETA: 24s - loss: 0.3060 - accuracy: 0.891 - ETA: 23s - loss: 0.3125 - accuracy: 0.886 - ETA: 23s - loss: 0.3062 - accuracy: 0.886 - ETA: 22s - loss: 0.3251 - accuracy: 0.878 - ETA: 22s - loss: 0.3160 - accuracy: 0.881 - ETA: 22s - loss: 0.3106 - accuracy: 0.884 - ETA: 21s - loss: 0.3053 - accuracy: 0.883 - ETA: 21s - loss: 0.3046 - accuracy: 0.886 - ETA: 21s - loss: 0.3076 - accuracy: 0.885 - ETA: 20s - loss: 0.3175 - accuracy: 0.880 - ETA: 20s - loss: 0.3107 - accuracy: 0.882 - ETA: 19s - loss: 0.3148 - accuracy: 0.882 - ETA: 19s - loss: 0.3221 - accuracy: 0.881 - ETA: 19s - loss: 0.3237 - accuracy: 0.879 - ETA: 18s - loss: 0.3228 - accuracy: 0.879 - ETA: 18s - loss: 0.3214 - accuracy: 0.879 - ETA: 17s - loss: 0.3257 - accuracy: 0.877 - ETA: 17s - loss: 0.3280 - accuracy: 0.875 - ETA: 17s - loss: 0.3375 - accuracy: 0.869 - ETA: 16s - loss: 0.3487 - accuracy: 0.865 - ETA: 16s - loss: 0.3432 - accuracy: 0.867 - ETA: 16s - loss: 0.3455 - accuracy: 0.866 - ETA: 15s - loss: 0.3511 - accuracy: 0.864 - ETA: 15s - loss: 0.3466 - accuracy: 0.865 - ETA: 14s - loss: 0.3427 - accuracy: 0.865 - ETA: 14s - loss: 0.3473 - accuracy: 0.864 - ETA: 14s - loss: 0.3497 - accuracy: 0.864 - ETA: 13s - loss: 0.3905 - accuracy: 0.863 - ETA: 13s - loss: 0.3926 - accuracy: 0.863 - ETA: 12s - loss: 0.3868 - accuracy: 0.865 - ETA: 12s - loss: 0.3819 - accuracy: 0.866 - ETA: 12s - loss: 0.3802 - accuracy: 0.866 - ETA: 11s - loss: 0.3759 - accuracy: 0.868 - ETA: 11s - loss: 0.3748 - accuracy: 0.868 - ETA: 11s - loss: 0.3727 - accuracy: 0.870 - ETA: 10s - loss: 0.3715 - accuracy: 0.870 - ETA: 10s - loss: 0.3747 - accuracy: 0.870 - ETA: 9s - loss: 0.3698 - accuracy: 0.871 - ETA: 9s - loss: 0.3664 - accuracy: 0.87 - ETA: 9s - loss: 0.3688 - accuracy: 0.86 - ETA: 8s - loss: 0.3719 - accuracy: 0.87 - ETA: 8s - loss: 0.3705 - accuracy: 0.86 - ETA: 8s - loss: 0.3701 - accuracy: 0.86 - ETA: 7s - loss: 0.3663 - accuracy: 0.86 - ETA: 7s - loss: 0.3633 - accuracy: 0.86 - ETA: 7s - loss: 0.3662 - accuracy: 0.86 - ETA: 6s - loss: 0.3686 - accuracy: 0.86 - ETA: 6s - loss: 0.3695 - accuracy: 0.86 - ETA: 5s - loss: 0.3692 - accuracy: 0.86 - ETA: 5s - loss: 0.3664 - accuracy: 0.86 - ETA: 5s - loss: 0.3700 - accuracy: 0.86 - ETA: 4s - loss: 0.3660 - accuracy: 0.86 - ETA: 4s - loss: 0.3650 - accuracy: 0.86 - ETA: 4s - loss: 0.3651 - accuracy: 0.86 - ETA: 3s - loss: 0.3646 - accuracy: 0.86 - ETA: 3s - loss: 0.3618 - accuracy: 0.86 - ETA: 3s - loss: 0.3594 - accuracy: 0.86 - ETA: 2s - loss: 0.3601 - accuracy: 0.86 - ETA: 2s - loss: 0.3613 - accuracy: 0.86 - ETA: 1s - loss: 0.3606 - accuracy: 0.86 - ETA: 1s - loss: 0.3586 - accuracy: 0.86 - ETA: 1s - loss: 0.3552 - accuracy: 0.86 - ETA: 0s - loss: 0.3525 - accuracy: 0.86 - ETA: 0s - loss: 0.3493 - accuracy: 0.87 - ETA: 0s - loss: 0.3477 - accuracy: 0.87 - 32s 400ms/step - loss: 0.3475 - accuracy: 0.8711 - val_loss: 0.2321 - val_accuracy: 0.9085\n",
      "Epoch 12/20\n",
      "80/79 [==============================] - ETA: 29s - loss: 0.5675 - accuracy: 0.812 - ETA: 29s - loss: 0.4418 - accuracy: 0.812 - ETA: 28s - loss: 0.3456 - accuracy: 0.854 - ETA: 27s - loss: 0.3397 - accuracy: 0.875 - ETA: 27s - loss: 0.3542 - accuracy: 0.875 - ETA: 27s - loss: 0.3499 - accuracy: 0.875 - ETA: 26s - loss: 0.3364 - accuracy: 0.875 - ETA: 26s - loss: 0.3116 - accuracy: 0.882 - ETA: 25s - loss: 0.2802 - accuracy: 0.895 - ETA: 25s - loss: 0.2804 - accuracy: 0.893 - ETA: 25s - loss: 0.2993 - accuracy: 0.892 - ETA: 24s - loss: 0.3139 - accuracy: 0.890 - ETA: 24s - loss: 0.3020 - accuracy: 0.894 - ETA: 24s - loss: 0.3171 - accuracy: 0.888 - ETA: 23s - loss: 0.3078 - accuracy: 0.891 - ETA: 23s - loss: 0.3302 - accuracy: 0.886 - ETA: 22s - loss: 0.3216 - accuracy: 0.889 - ETA: 22s - loss: 0.3104 - accuracy: 0.892 - ETA: 22s - loss: 0.3085 - accuracy: 0.891 - ETA: 21s - loss: 0.3055 - accuracy: 0.890 - ETA: 21s - loss: 0.3129 - accuracy: 0.889 - ETA: 21s - loss: 0.3078 - accuracy: 0.892 - ETA: 20s - loss: 0.2989 - accuracy: 0.896 - ETA: 20s - loss: 0.2903 - accuracy: 0.898 - ETA: 20s - loss: 0.2936 - accuracy: 0.897 - ETA: 19s - loss: 0.2871 - accuracy: 0.901 - ETA: 19s - loss: 0.2990 - accuracy: 0.898 - ETA: 18s - loss: 0.2996 - accuracy: 0.899 - ETA: 18s - loss: 0.3025 - accuracy: 0.896 - ETA: 18s - loss: 0.3000 - accuracy: 0.895 - ETA: 17s - loss: 0.2984 - accuracy: 0.895 - ETA: 17s - loss: 0.2927 - accuracy: 0.898 - ETA: 17s - loss: 0.2875 - accuracy: 0.901 - ETA: 16s - loss: 0.2851 - accuracy: 0.902 - ETA: 16s - loss: 0.2845 - accuracy: 0.901 - ETA: 15s - loss: 0.2811 - accuracy: 0.902 - ETA: 15s - loss: 0.2812 - accuracy: 0.903 - ETA: 15s - loss: 0.2864 - accuracy: 0.899 - ETA: 14s - loss: 0.2869 - accuracy: 0.899 - ETA: 14s - loss: 0.2871 - accuracy: 0.896 - ETA: 14s - loss: 0.2826 - accuracy: 0.897 - ETA: 13s - loss: 0.2813 - accuracy: 0.898 - ETA: 13s - loss: 0.2815 - accuracy: 0.898 - ETA: 12s - loss: 0.2811 - accuracy: 0.899 - ETA: 12s - loss: 0.2894 - accuracy: 0.895 - ETA: 12s - loss: 0.2890 - accuracy: 0.894 - ETA: 11s - loss: 0.2983 - accuracy: 0.889 - ETA: 11s - loss: 0.2992 - accuracy: 0.889 - ETA: 11s - loss: 0.3017 - accuracy: 0.889 - ETA: 10s - loss: 0.3030 - accuracy: 0.888 - ETA: 10s - loss: 0.3000 - accuracy: 0.889 - ETA: 9s - loss: 0.2968 - accuracy: 0.890 - ETA: 9s - loss: 0.2943 - accuracy: 0.89 - ETA: 9s - loss: 0.2958 - accuracy: 0.89 - ETA: 8s - loss: 0.2992 - accuracy: 0.88 - ETA: 8s - loss: 0.2973 - accuracy: 0.88 - ETA: 8s - loss: 0.2963 - accuracy: 0.88 - ETA: 7s - loss: 0.2964 - accuracy: 0.88 - ETA: 7s - loss: 0.2995 - accuracy: 0.88 - ETA: 7s - loss: 0.2984 - accuracy: 0.88 - ETA: 6s - loss: 0.2975 - accuracy: 0.88 - ETA: 6s - loss: 0.2986 - accuracy: 0.88 - ETA: 5s - loss: 0.2977 - accuracy: 0.88 - ETA: 5s - loss: 0.2992 - accuracy: 0.88 - ETA: 5s - loss: 0.2975 - accuracy: 0.88 - ETA: 4s - loss: 0.2950 - accuracy: 0.88 - ETA: 4s - loss: 0.2943 - accuracy: 0.88 - ETA: 4s - loss: 0.2929 - accuracy: 0.88 - ETA: 3s - loss: 0.2941 - accuracy: 0.88 - ETA: 3s - loss: 0.2922 - accuracy: 0.88 - ETA: 2s - loss: 0.2907 - accuracy: 0.88 - ETA: 2s - loss: 0.2919 - accuracy: 0.88 - ETA: 2s - loss: 0.2915 - accuracy: 0.88 - ETA: 1s - loss: 0.2933 - accuracy: 0.88 - ETA: 1s - loss: 0.2955 - accuracy: 0.88 - ETA: 1s - loss: 0.2948 - accuracy: 0.88 - ETA: 0s - loss: 0.2960 - accuracy: 0.88 - ETA: 0s - loss: 0.2965 - accuracy: 0.88 - ETA: 0s - loss: 0.2977 - accuracy: 0.88 - 32s 394ms/step - loss: 0.2959 - accuracy: 0.8814 - val_loss: 0.3706 - val_accuracy: 0.8549\n",
      "Epoch 13/20\n",
      "80/79 [==============================] - ETA: 29s - loss: 0.2370 - accuracy: 0.875 - ETA: 28s - loss: 0.2069 - accuracy: 0.906 - ETA: 28s - loss: 0.1575 - accuracy: 0.937 - ETA: 28s - loss: 0.2408 - accuracy: 0.921 - ETA: 28s - loss: 0.2297 - accuracy: 0.925 - ETA: 27s - loss: 0.3163 - accuracy: 0.885 - ETA: 27s - loss: 0.3092 - accuracy: 0.892 - ETA: 26s - loss: 0.2973 - accuracy: 0.890 - ETA: 26s - loss: 0.2923 - accuracy: 0.888 - ETA: 25s - loss: 0.2781 - accuracy: 0.900 - ETA: 25s - loss: 0.2825 - accuracy: 0.903 - ETA: 25s - loss: 0.2716 - accuracy: 0.906 - ETA: 24s - loss: 0.2703 - accuracy: 0.903 - ETA: 24s - loss: 0.2560 - accuracy: 0.910 - ETA: 23s - loss: 0.2695 - accuracy: 0.908 - ETA: 23s - loss: 0.2600 - accuracy: 0.914 - ETA: 23s - loss: 0.2539 - accuracy: 0.915 - ETA: 22s - loss: 0.2604 - accuracy: 0.909 - ETA: 22s - loss: 0.2696 - accuracy: 0.901 - ETA: 21s - loss: 0.2649 - accuracy: 0.903 - ETA: 21s - loss: 0.2676 - accuracy: 0.904 - ETA: 21s - loss: 0.2686 - accuracy: 0.903 - ETA: 20s - loss: 0.2731 - accuracy: 0.896 - ETA: 20s - loss: 0.2767 - accuracy: 0.898 - ETA: 20s - loss: 0.2679 - accuracy: 0.902 - ETA: 19s - loss: 0.2663 - accuracy: 0.901 - ETA: 19s - loss: 0.2607 - accuracy: 0.902 - ETA: 18s - loss: 0.2642 - accuracy: 0.899 - ETA: 18s - loss: 0.2582 - accuracy: 0.900 - ETA: 18s - loss: 0.2713 - accuracy: 0.893 - ETA: 17s - loss: 0.2909 - accuracy: 0.885 - ETA: 17s - loss: 0.2962 - accuracy: 0.882 - ETA: 17s - loss: 0.2946 - accuracy: 0.882 - ETA: 16s - loss: 0.2973 - accuracy: 0.882 - ETA: 16s - loss: 0.2935 - accuracy: 0.883 - ETA: 15s - loss: 0.2939 - accuracy: 0.883 - ETA: 15s - loss: 0.3130 - accuracy: 0.880 - ETA: 15s - loss: 0.3198 - accuracy: 0.876 - ETA: 14s - loss: 0.3159 - accuracy: 0.876 - ETA: 14s - loss: 0.3136 - accuracy: 0.878 - ETA: 14s - loss: 0.3127 - accuracy: 0.879 - ETA: 13s - loss: 0.3113 - accuracy: 0.881 - ETA: 13s - loss: 0.3147 - accuracy: 0.879 - ETA: 12s - loss: 0.3128 - accuracy: 0.880 - ETA: 12s - loss: 0.3114 - accuracy: 0.881 - ETA: 12s - loss: 0.3103 - accuracy: 0.881 - ETA: 11s - loss: 0.3147 - accuracy: 0.877 - ETA: 11s - loss: 0.3149 - accuracy: 0.877 - ETA: 11s - loss: 0.3177 - accuracy: 0.876 - ETA: 10s - loss: 0.3186 - accuracy: 0.873 - ETA: 10s - loss: 0.3244 - accuracy: 0.870 - ETA: 10s - loss: 0.3232 - accuracy: 0.870 - ETA: 9s - loss: 0.3199 - accuracy: 0.871 - ETA: 9s - loss: 0.3199 - accuracy: 0.87 - ETA: 8s - loss: 0.3198 - accuracy: 0.87 - ETA: 8s - loss: 0.3252 - accuracy: 0.86 - ETA: 8s - loss: 0.3278 - accuracy: 0.86 - ETA: 7s - loss: 0.3249 - accuracy: 0.86 - ETA: 7s - loss: 0.3214 - accuracy: 0.87 - ETA: 7s - loss: 0.3181 - accuracy: 0.87 - ETA: 6s - loss: 0.3144 - accuracy: 0.87 - ETA: 6s - loss: 0.3174 - accuracy: 0.87 - ETA: 5s - loss: 0.3146 - accuracy: 0.87 - ETA: 5s - loss: 0.3104 - accuracy: 0.87 - ETA: 5s - loss: 0.3120 - accuracy: 0.87 - ETA: 4s - loss: 0.3127 - accuracy: 0.87 - ETA: 4s - loss: 0.3127 - accuracy: 0.87 - ETA: 4s - loss: 0.3128 - accuracy: 0.87 - ETA: 3s - loss: 0.3105 - accuracy: 0.88 - ETA: 3s - loss: 0.3079 - accuracy: 0.88 - ETA: 2s - loss: 0.3089 - accuracy: 0.88 - ETA: 2s - loss: 0.3093 - accuracy: 0.88 - ETA: 2s - loss: 0.3058 - accuracy: 0.88 - ETA: 1s - loss: 0.3088 - accuracy: 0.88 - ETA: 1s - loss: 0.3083 - accuracy: 0.88 - ETA: 1s - loss: 0.3081 - accuracy: 0.88 - ETA: 0s - loss: 0.3071 - accuracy: 0.88 - ETA: 0s - loss: 0.3126 - accuracy: 0.87 - ETA: 0s - loss: 0.3109 - accuracy: 0.87 - 31s 392ms/step - loss: 0.3085 - accuracy: 0.8791 - val_loss: 0.2823 - val_accuracy: 0.8864\n",
      "Epoch 14/20\n"
     ]
    },
    {
     "name": "stdout",
     "output_type": "stream",
     "text": [
      "80/79 [==============================] - ETA: 28s - loss: 0.1175 - accuracy: 0.937 - ETA: 28s - loss: 0.2822 - accuracy: 0.843 - ETA: 27s - loss: 0.2562 - accuracy: 0.854 - ETA: 27s - loss: 0.2877 - accuracy: 0.843 - ETA: 27s - loss: 0.2649 - accuracy: 0.862 - ETA: 26s - loss: 0.2372 - accuracy: 0.885 - ETA: 26s - loss: 0.2588 - accuracy: 0.866 - ETA: 26s - loss: 0.2750 - accuracy: 0.867 - ETA: 25s - loss: 0.2747 - accuracy: 0.868 - ETA: 25s - loss: 0.2783 - accuracy: 0.868 - ETA: 25s - loss: 0.2673 - accuracy: 0.869 - ETA: 24s - loss: 0.2645 - accuracy: 0.875 - ETA: 24s - loss: 0.2694 - accuracy: 0.870 - ETA: 23s - loss: 0.2724 - accuracy: 0.866 - ETA: 23s - loss: 0.2643 - accuracy: 0.870 - ETA: 23s - loss: 0.2553 - accuracy: 0.875 - ETA: 22s - loss: 0.2567 - accuracy: 0.875 - ETA: 22s - loss: 0.2557 - accuracy: 0.875 - ETA: 22s - loss: 0.2676 - accuracy: 0.875 - ETA: 21s - loss: 0.2715 - accuracy: 0.878 - ETA: 21s - loss: 0.2628 - accuracy: 0.883 - ETA: 20s - loss: 0.2554 - accuracy: 0.889 - ETA: 20s - loss: 0.2649 - accuracy: 0.880 - ETA: 20s - loss: 0.2692 - accuracy: 0.877 - ETA: 19s - loss: 0.2695 - accuracy: 0.877 - ETA: 19s - loss: 0.2636 - accuracy: 0.882 - ETA: 19s - loss: 0.2723 - accuracy: 0.875 - ETA: 18s - loss: 0.2648 - accuracy: 0.879 - ETA: 18s - loss: 0.2614 - accuracy: 0.881 - ETA: 18s - loss: 0.2598 - accuracy: 0.883 - ETA: 17s - loss: 0.2611 - accuracy: 0.883 - ETA: 17s - loss: 0.2569 - accuracy: 0.886 - ETA: 16s - loss: 0.2576 - accuracy: 0.886 - ETA: 16s - loss: 0.2546 - accuracy: 0.886 - ETA: 15s - loss: 0.2506 - accuracy: 0.886 - ETA: 15s - loss: 0.2488 - accuracy: 0.887 - ETA: 15s - loss: 0.2488 - accuracy: 0.887 - ETA: 14s - loss: 0.2524 - accuracy: 0.883 - ETA: 14s - loss: 0.2558 - accuracy: 0.880 - ETA: 14s - loss: 0.2553 - accuracy: 0.880 - ETA: 13s - loss: 0.2520 - accuracy: 0.881 - ETA: 13s - loss: 0.2541 - accuracy: 0.879 - ETA: 13s - loss: 0.2609 - accuracy: 0.878 - ETA: 12s - loss: 0.2574 - accuracy: 0.881 - ETA: 12s - loss: 0.2606 - accuracy: 0.879 - ETA: 12s - loss: 0.2648 - accuracy: 0.879 - ETA: 11s - loss: 0.2656 - accuracy: 0.879 - ETA: 11s - loss: 0.2665 - accuracy: 0.879 - ETA: 10s - loss: 0.2674 - accuracy: 0.877 - ETA: 10s - loss: 0.2734 - accuracy: 0.876 - ETA: 10s - loss: 0.2716 - accuracy: 0.877 - ETA: 9s - loss: 0.2694 - accuracy: 0.878 - ETA: 9s - loss: 0.2687 - accuracy: 0.87 - ETA: 9s - loss: 0.2707 - accuracy: 0.87 - ETA: 8s - loss: 0.2705 - accuracy: 0.87 - ETA: 8s - loss: 0.2719 - accuracy: 0.87 - ETA: 8s - loss: 0.2688 - accuracy: 0.87 - ETA: 7s - loss: 0.2712 - accuracy: 0.87 - ETA: 7s - loss: 0.2727 - accuracy: 0.87 - ETA: 7s - loss: 0.2761 - accuracy: 0.87 - ETA: 6s - loss: 0.2786 - accuracy: 0.87 - ETA: 6s - loss: 0.2776 - accuracy: 0.87 - ETA: 5s - loss: 0.2763 - accuracy: 0.87 - ETA: 5s - loss: 0.2759 - accuracy: 0.87 - ETA: 5s - loss: 0.2742 - accuracy: 0.87 - ETA: 4s - loss: 0.2754 - accuracy: 0.87 - ETA: 4s - loss: 0.2735 - accuracy: 0.87 - ETA: 4s - loss: 0.2753 - accuracy: 0.87 - ETA: 3s - loss: 0.2735 - accuracy: 0.87 - ETA: 3s - loss: 0.2784 - accuracy: 0.87 - ETA: 2s - loss: 0.2775 - accuracy: 0.87 - ETA: 2s - loss: 0.2775 - accuracy: 0.87 - ETA: 2s - loss: 0.2814 - accuracy: 0.87 - ETA: 1s - loss: 0.2794 - accuracy: 0.87 - ETA: 1s - loss: 0.2768 - accuracy: 0.87 - ETA: 1s - loss: 0.2748 - accuracy: 0.87 - ETA: 0s - loss: 0.2738 - accuracy: 0.87 - ETA: 0s - loss: 0.2735 - accuracy: 0.87 - ETA: 0s - loss: 0.2794 - accuracy: 0.87 - 32s 397ms/step - loss: 0.2802 - accuracy: 0.8759 - val_loss: 0.2777 - val_accuracy: 0.8959\n",
      "Epoch 15/20\n",
      "80/79 [==============================] - ETA: 28s - loss: 0.7135 - accuracy: 0.750 - ETA: 27s - loss: 0.4309 - accuracy: 0.843 - ETA: 27s - loss: 0.3822 - accuracy: 0.833 - ETA: 27s - loss: 0.3148 - accuracy: 0.859 - ETA: 27s - loss: 0.2978 - accuracy: 0.887 - ETA: 27s - loss: 0.2673 - accuracy: 0.906 - ETA: 27s - loss: 0.2518 - accuracy: 0.910 - ETA: 26s - loss: 0.2758 - accuracy: 0.898 - ETA: 26s - loss: 0.2708 - accuracy: 0.902 - ETA: 25s - loss: 0.2524 - accuracy: 0.912 - ETA: 25s - loss: 0.2363 - accuracy: 0.920 - ETA: 25s - loss: 0.2269 - accuracy: 0.927 - ETA: 24s - loss: 0.2185 - accuracy: 0.927 - ETA: 24s - loss: 0.2277 - accuracy: 0.924 - ETA: 23s - loss: 0.2478 - accuracy: 0.912 - ETA: 23s - loss: 0.2569 - accuracy: 0.910 - ETA: 23s - loss: 0.2810 - accuracy: 0.900 - ETA: 22s - loss: 0.2710 - accuracy: 0.906 - ETA: 22s - loss: 0.2687 - accuracy: 0.904 - ETA: 22s - loss: 0.2681 - accuracy: 0.906 - ETA: 21s - loss: 0.2619 - accuracy: 0.907 - ETA: 21s - loss: 0.2551 - accuracy: 0.909 - ETA: 20s - loss: 0.2551 - accuracy: 0.907 - ETA: 20s - loss: 0.2475 - accuracy: 0.911 - ETA: 20s - loss: 0.2424 - accuracy: 0.915 - ETA: 19s - loss: 0.2536 - accuracy: 0.911 - ETA: 19s - loss: 0.2529 - accuracy: 0.912 - ETA: 18s - loss: 0.2510 - accuracy: 0.912 - ETA: 18s - loss: 0.2596 - accuracy: 0.909 - ETA: 18s - loss: 0.2607 - accuracy: 0.910 - ETA: 17s - loss: 0.2656 - accuracy: 0.909 - ETA: 17s - loss: 0.2626 - accuracy: 0.908 - ETA: 17s - loss: 0.2574 - accuracy: 0.911 - ETA: 16s - loss: 0.2550 - accuracy: 0.911 - ETA: 16s - loss: 0.2501 - accuracy: 0.914 - ETA: 16s - loss: 0.2511 - accuracy: 0.913 - ETA: 15s - loss: 0.2541 - accuracy: 0.910 - ETA: 15s - loss: 0.2526 - accuracy: 0.909 - ETA: 14s - loss: 0.2529 - accuracy: 0.908 - ETA: 14s - loss: 0.2525 - accuracy: 0.909 - ETA: 14s - loss: 0.2494 - accuracy: 0.910 - ETA: 13s - loss: 0.2458 - accuracy: 0.912 - ETA: 13s - loss: 0.2420 - accuracy: 0.914 - ETA: 13s - loss: 0.2450 - accuracy: 0.911 - ETA: 12s - loss: 0.2418 - accuracy: 0.913 - ETA: 12s - loss: 0.2494 - accuracy: 0.909 - ETA: 11s - loss: 0.2517 - accuracy: 0.909 - ETA: 11s - loss: 0.2540 - accuracy: 0.910 - ETA: 11s - loss: 0.2523 - accuracy: 0.910 - ETA: 10s - loss: 0.2499 - accuracy: 0.912 - ETA: 10s - loss: 0.2585 - accuracy: 0.909 - ETA: 9s - loss: 0.2967 - accuracy: 0.908 - ETA: 9s - loss: 0.2999 - accuracy: 0.90 - ETA: 9s - loss: 0.3001 - accuracy: 0.90 - ETA: 8s - loss: 0.3000 - accuracy: 0.90 - ETA: 8s - loss: 0.2993 - accuracy: 0.90 - ETA: 8s - loss: 0.3050 - accuracy: 0.90 - ETA: 7s - loss: 0.3032 - accuracy: 0.90 - ETA: 7s - loss: 0.3001 - accuracy: 0.90 - ETA: 7s - loss: 0.2983 - accuracy: 0.90 - ETA: 6s - loss: 0.2990 - accuracy: 0.90 - ETA: 6s - loss: 0.2979 - accuracy: 0.90 - ETA: 5s - loss: 0.2984 - accuracy: 0.89 - ETA: 5s - loss: 0.2967 - accuracy: 0.89 - ETA: 5s - loss: 0.2933 - accuracy: 0.90 - ETA: 4s - loss: 0.2967 - accuracy: 0.89 - ETA: 4s - loss: 0.2932 - accuracy: 0.90 - ETA: 4s - loss: 0.2940 - accuracy: 0.89 - ETA: 3s - loss: 0.2922 - accuracy: 0.89 - ETA: 3s - loss: 0.2946 - accuracy: 0.89 - ETA: 2s - loss: 0.2952 - accuracy: 0.89 - ETA: 2s - loss: 0.2932 - accuracy: 0.89 - ETA: 2s - loss: 0.2911 - accuracy: 0.89 - ETA: 1s - loss: 0.2893 - accuracy: 0.90 - ETA: 1s - loss: 0.2895 - accuracy: 0.89 - ETA: 1s - loss: 0.2945 - accuracy: 0.89 - ETA: 0s - loss: 0.2957 - accuracy: 0.89 - ETA: 0s - loss: 0.2975 - accuracy: 0.89 - ETA: 0s - loss: 0.2960 - accuracy: 0.89 - 32s 395ms/step - loss: 0.2967 - accuracy: 0.8964 - val_loss: 0.3002 - val_accuracy: 0.9022\n",
      "Epoch 16/20\n",
      "80/79 [==============================] - ETA: 28s - loss: 0.4520 - accuracy: 0.625 - ETA: 27s - loss: 0.2894 - accuracy: 0.781 - ETA: 27s - loss: 0.3001 - accuracy: 0.812 - ETA: 27s - loss: 0.2464 - accuracy: 0.859 - ETA: 26s - loss: 0.2542 - accuracy: 0.862 - ETA: 24s - loss: 0.2316 - accuracy: 0.864 - ETA: 24s - loss: 0.2377 - accuracy: 0.866 - ETA: 24s - loss: 0.2324 - accuracy: 0.867 - ETA: 23s - loss: 0.2167 - accuracy: 0.883 - ETA: 23s - loss: 0.2294 - accuracy: 0.889 - ETA: 23s - loss: 0.2218 - accuracy: 0.894 - ETA: 23s - loss: 0.2228 - accuracy: 0.892 - ETA: 23s - loss: 0.2282 - accuracy: 0.891 - ETA: 22s - loss: 0.2515 - accuracy: 0.880 - ETA: 22s - loss: 0.2448 - accuracy: 0.880 - ETA: 22s - loss: 0.2507 - accuracy: 0.875 - ETA: 21s - loss: 0.2474 - accuracy: 0.871 - ETA: 21s - loss: 0.2582 - accuracy: 0.868 - ETA: 21s - loss: 0.2577 - accuracy: 0.865 - ETA: 20s - loss: 0.2762 - accuracy: 0.859 - ETA: 20s - loss: 0.2669 - accuracy: 0.866 - ETA: 20s - loss: 0.2656 - accuracy: 0.869 - ETA: 19s - loss: 0.2685 - accuracy: 0.872 - ETA: 19s - loss: 0.2598 - accuracy: 0.878 - ETA: 19s - loss: 0.2518 - accuracy: 0.883 - ETA: 18s - loss: 0.2544 - accuracy: 0.882 - ETA: 18s - loss: 0.2518 - accuracy: 0.882 - ETA: 18s - loss: 0.2465 - accuracy: 0.886 - ETA: 17s - loss: 0.2438 - accuracy: 0.888 - ETA: 17s - loss: 0.2410 - accuracy: 0.890 - ETA: 17s - loss: 0.2385 - accuracy: 0.891 - ETA: 16s - loss: 0.2366 - accuracy: 0.893 - ETA: 16s - loss: 0.2332 - accuracy: 0.894 - ETA: 16s - loss: 0.2336 - accuracy: 0.892 - ETA: 15s - loss: 0.2411 - accuracy: 0.888 - ETA: 15s - loss: 0.2401 - accuracy: 0.887 - ETA: 15s - loss: 0.2394 - accuracy: 0.887 - ETA: 14s - loss: 0.2483 - accuracy: 0.885 - ETA: 14s - loss: 0.2479 - accuracy: 0.885 - ETA: 14s - loss: 0.2557 - accuracy: 0.881 - ETA: 13s - loss: 0.2533 - accuracy: 0.883 - ETA: 13s - loss: 0.2498 - accuracy: 0.885 - ETA: 13s - loss: 0.2496 - accuracy: 0.887 - ETA: 12s - loss: 0.2528 - accuracy: 0.886 - ETA: 12s - loss: 0.2512 - accuracy: 0.887 - ETA: 11s - loss: 0.2493 - accuracy: 0.889 - ETA: 11s - loss: 0.2517 - accuracy: 0.890 - ETA: 11s - loss: 0.2480 - accuracy: 0.892 - ETA: 10s - loss: 0.2453 - accuracy: 0.894 - ETA: 10s - loss: 0.2464 - accuracy: 0.894 - ETA: 10s - loss: 0.2472 - accuracy: 0.893 - ETA: 9s - loss: 0.2492 - accuracy: 0.893 - ETA: 9s - loss: 0.2464 - accuracy: 0.89 - ETA: 9s - loss: 0.2564 - accuracy: 0.89 - ETA: 8s - loss: 0.2590 - accuracy: 0.89 - ETA: 8s - loss: 0.2612 - accuracy: 0.88 - ETA: 8s - loss: 0.2627 - accuracy: 0.88 - ETA: 7s - loss: 0.2599 - accuracy: 0.88 - ETA: 7s - loss: 0.2595 - accuracy: 0.88 - ETA: 7s - loss: 0.2615 - accuracy: 0.88 - ETA: 6s - loss: 0.2682 - accuracy: 0.88 - ETA: 6s - loss: 0.2668 - accuracy: 0.88 - ETA: 5s - loss: 0.2713 - accuracy: 0.88 - ETA: 5s - loss: 0.2734 - accuracy: 0.88 - ETA: 5s - loss: 0.2735 - accuracy: 0.88 - ETA: 4s - loss: 0.2764 - accuracy: 0.88 - ETA: 4s - loss: 0.2744 - accuracy: 0.88 - ETA: 4s - loss: 0.2751 - accuracy: 0.88 - ETA: 3s - loss: 0.2839 - accuracy: 0.88 - ETA: 3s - loss: 0.2834 - accuracy: 0.88 - ETA: 2s - loss: 0.2815 - accuracy: 0.88 - ETA: 2s - loss: 0.2849 - accuracy: 0.87 - ETA: 2s - loss: 0.2873 - accuracy: 0.87 - ETA: 1s - loss: 0.2861 - accuracy: 0.87 - ETA: 1s - loss: 0.2861 - accuracy: 0.87 - ETA: 1s - loss: 0.2865 - accuracy: 0.87 - ETA: 0s - loss: 0.2861 - accuracy: 0.87 - ETA: 0s - loss: 0.2853 - accuracy: 0.87 - ETA: 0s - loss: 0.2825 - accuracy: 0.88 - 32s 396ms/step - loss: 0.2821 - accuracy: 0.8806 - val_loss: 0.3035 - val_accuracy: 0.8675\n",
      "Epoch 17/20\n",
      "80/79 [==============================] - ETA: 28s - loss: 0.1198 - accuracy: 1.000 - ETA: 27s - loss: 0.1663 - accuracy: 0.937 - ETA: 27s - loss: 0.2035 - accuracy: 0.895 - ETA: 27s - loss: 0.1855 - accuracy: 0.906 - ETA: 26s - loss: 0.2928 - accuracy: 0.850 - ETA: 26s - loss: 0.2638 - accuracy: 0.875 - ETA: 26s - loss: 0.2989 - accuracy: 0.866 - ETA: 25s - loss: 0.2931 - accuracy: 0.867 - ETA: 25s - loss: 0.2944 - accuracy: 0.854 - ETA: 25s - loss: 0.2921 - accuracy: 0.856 - ETA: 24s - loss: 0.2845 - accuracy: 0.863 - ETA: 24s - loss: 0.2876 - accuracy: 0.864 - ETA: 24s - loss: 0.2843 - accuracy: 0.865 - ETA: 23s - loss: 0.2800 - accuracy: 0.866 - ETA: 23s - loss: 0.2832 - accuracy: 0.866 - ETA: 23s - loss: 0.2802 - accuracy: 0.867 - ETA: 22s - loss: 0.2707 - accuracy: 0.875 - ETA: 22s - loss: 0.2701 - accuracy: 0.875 - ETA: 21s - loss: 0.2742 - accuracy: 0.871 - ETA: 21s - loss: 0.2692 - accuracy: 0.871 - ETA: 21s - loss: 0.2671 - accuracy: 0.872 - ETA: 20s - loss: 0.2740 - accuracy: 0.872 - ETA: 20s - loss: 0.2760 - accuracy: 0.872 - ETA: 20s - loss: 0.2688 - accuracy: 0.877 - ETA: 19s - loss: 0.2673 - accuracy: 0.877 - ETA: 19s - loss: 0.2859 - accuracy: 0.872 - ETA: 18s - loss: 0.2805 - accuracy: 0.877 - ETA: 18s - loss: 0.2754 - accuracy: 0.879 - ETA: 18s - loss: 0.2708 - accuracy: 0.881 - ETA: 17s - loss: 0.2667 - accuracy: 0.883 - ETA: 17s - loss: 0.2651 - accuracy: 0.885 - ETA: 17s - loss: 0.2740 - accuracy: 0.880 - ETA: 17s - loss: 0.2730 - accuracy: 0.880 - ETA: 16s - loss: 0.2762 - accuracy: 0.880 - ETA: 16s - loss: 0.2832 - accuracy: 0.880 - ETA: 15s - loss: 0.2867 - accuracy: 0.878 - ETA: 15s - loss: 0.2833 - accuracy: 0.881 - ETA: 15s - loss: 0.2841 - accuracy: 0.883 - ETA: 14s - loss: 0.2913 - accuracy: 0.879 - ETA: 14s - loss: 0.2850 - accuracy: 0.882 - ETA: 14s - loss: 0.2792 - accuracy: 0.885 - ETA: 13s - loss: 0.2787 - accuracy: 0.886 - ETA: 13s - loss: 0.2759 - accuracy: 0.888 - ETA: 12s - loss: 0.2884 - accuracy: 0.883 - ETA: 12s - loss: 0.2835 - accuracy: 0.886 - ETA: 12s - loss: 0.2813 - accuracy: 0.887 - ETA: 11s - loss: 0.2767 - accuracy: 0.889 - ETA: 11s - loss: 0.2799 - accuracy: 0.885 - ETA: 11s - loss: 0.2781 - accuracy: 0.886 - ETA: 10s - loss: 0.2761 - accuracy: 0.886 - ETA: 10s - loss: 0.2807 - accuracy: 0.883 - ETA: 10s - loss: 0.2785 - accuracy: 0.883 - ETA: 9s - loss: 0.2794 - accuracy: 0.883 - ETA: 9s - loss: 0.2806 - accuracy: 0.88 - ETA: 8s - loss: 0.2802 - accuracy: 0.88 - ETA: 8s - loss: 0.2868 - accuracy: 0.87 - ETA: 8s - loss: 0.2857 - accuracy: 0.87 - ETA: 7s - loss: 0.2853 - accuracy: 0.87 - ETA: 7s - loss: 0.2820 - accuracy: 0.88 - ETA: 7s - loss: 0.2893 - accuracy: 0.87 - ETA: 6s - loss: 0.2872 - accuracy: 0.87 - ETA: 6s - loss: 0.3195 - accuracy: 0.87 - ETA: 6s - loss: 0.3155 - accuracy: 0.88 - ETA: 5s - loss: 0.3138 - accuracy: 0.88 - ETA: 5s - loss: 0.3127 - accuracy: 0.88 - ETA: 4s - loss: 0.3119 - accuracy: 0.87 - ETA: 4s - loss: 0.3138 - accuracy: 0.87 - ETA: 4s - loss: 0.3131 - accuracy: 0.87 - ETA: 3s - loss: 0.3128 - accuracy: 0.87 - ETA: 3s - loss: 0.3108 - accuracy: 0.87 - ETA: 3s - loss: 0.3087 - accuracy: 0.87 - ETA: 2s - loss: 0.3089 - accuracy: 0.87 - ETA: 2s - loss: 0.3081 - accuracy: 0.87 - ETA: 1s - loss: 0.3067 - accuracy: 0.87 - ETA: 1s - loss: 0.3057 - accuracy: 0.87 - ETA: 1s - loss: 0.3042 - accuracy: 0.88 - ETA: 0s - loss: 0.3069 - accuracy: 0.87 - ETA: 0s - loss: 0.3067 - accuracy: 0.87 - ETA: 0s - loss: 0.3060 - accuracy: 0.87 - 32s 402ms/step - loss: 0.3067 - accuracy: 0.8791 - val_loss: 0.2326 - val_accuracy: 0.9054\n",
      "Epoch 18/20\n"
     ]
    },
    {
     "name": "stdout",
     "output_type": "stream",
     "text": [
      "80/79 [==============================] - ETA: 28s - loss: 0.2833 - accuracy: 0.875 - ETA: 28s - loss: 0.2631 - accuracy: 0.906 - ETA: 28s - loss: 0.2776 - accuracy: 0.854 - ETA: 27s - loss: 0.2579 - accuracy: 0.875 - ETA: 27s - loss: 0.2353 - accuracy: 0.887 - ETA: 27s - loss: 0.2054 - accuracy: 0.906 - ETA: 26s - loss: 0.1849 - accuracy: 0.919 - ETA: 26s - loss: 0.2658 - accuracy: 0.890 - ETA: 26s - loss: 0.2674 - accuracy: 0.888 - ETA: 25s - loss: 0.2492 - accuracy: 0.893 - ETA: 25s - loss: 0.2388 - accuracy: 0.897 - ETA: 25s - loss: 0.2558 - accuracy: 0.885 - ETA: 24s - loss: 0.2499 - accuracy: 0.884 - ETA: 24s - loss: 0.3122 - accuracy: 0.870 - ETA: 24s - loss: 0.2989 - accuracy: 0.879 - ETA: 23s - loss: 0.2960 - accuracy: 0.875 - ETA: 23s - loss: 0.2836 - accuracy: 0.882 - ETA: 23s - loss: 0.2804 - accuracy: 0.881 - ETA: 22s - loss: 0.2999 - accuracy: 0.875 - ETA: 22s - loss: 0.2914 - accuracy: 0.878 - ETA: 21s - loss: 0.2822 - accuracy: 0.881 - ETA: 21s - loss: 0.2745 - accuracy: 0.881 - ETA: 20s - loss: 0.2718 - accuracy: 0.883 - ETA: 20s - loss: 0.2746 - accuracy: 0.880 - ETA: 20s - loss: 0.2717 - accuracy: 0.880 - ETA: 19s - loss: 0.2777 - accuracy: 0.880 - ETA: 19s - loss: 0.2695 - accuracy: 0.884 - ETA: 18s - loss: 0.2721 - accuracy: 0.886 - ETA: 18s - loss: 0.2749 - accuracy: 0.886 - ETA: 18s - loss: 0.2690 - accuracy: 0.890 - ETA: 17s - loss: 0.2679 - accuracy: 0.889 - ETA: 17s - loss: 0.2839 - accuracy: 0.883 - ETA: 17s - loss: 0.2818 - accuracy: 0.883 - ETA: 16s - loss: 0.2759 - accuracy: 0.886 - ETA: 16s - loss: 0.2712 - accuracy: 0.889 - ETA: 16s - loss: 0.2705 - accuracy: 0.889 - ETA: 15s - loss: 0.2753 - accuracy: 0.889 - ETA: 15s - loss: 0.2731 - accuracy: 0.890 - ETA: 14s - loss: 0.2697 - accuracy: 0.893 - ETA: 14s - loss: 0.2645 - accuracy: 0.896 - ETA: 14s - loss: 0.2664 - accuracy: 0.897 - ETA: 13s - loss: 0.2712 - accuracy: 0.896 - ETA: 13s - loss: 0.2685 - accuracy: 0.897 - ETA: 13s - loss: 0.2656 - accuracy: 0.898 - ETA: 12s - loss: 0.2733 - accuracy: 0.896 - ETA: 12s - loss: 0.2751 - accuracy: 0.894 - ETA: 11s - loss: 0.2730 - accuracy: 0.896 - ETA: 11s - loss: 0.2788 - accuracy: 0.896 - ETA: 11s - loss: 0.2790 - accuracy: 0.894 - ETA: 10s - loss: 0.2763 - accuracy: 0.896 - ETA: 10s - loss: 0.2737 - accuracy: 0.897 - ETA: 10s - loss: 0.2715 - accuracy: 0.898 - ETA: 9s - loss: 0.2726 - accuracy: 0.896 - ETA: 9s - loss: 0.2740 - accuracy: 0.89 - ETA: 9s - loss: 0.2767 - accuracy: 0.89 - ETA: 8s - loss: 0.2765 - accuracy: 0.89 - ETA: 8s - loss: 0.2752 - accuracy: 0.89 - ETA: 7s - loss: 0.2775 - accuracy: 0.89 - ETA: 7s - loss: 0.2769 - accuracy: 0.89 - ETA: 7s - loss: 0.2774 - accuracy: 0.89 - ETA: 6s - loss: 0.2798 - accuracy: 0.89 - ETA: 6s - loss: 0.2771 - accuracy: 0.89 - ETA: 6s - loss: 0.2763 - accuracy: 0.89 - ETA: 5s - loss: 0.2735 - accuracy: 0.89 - ETA: 5s - loss: 0.2714 - accuracy: 0.89 - ETA: 4s - loss: 0.2721 - accuracy: 0.89 - ETA: 4s - loss: 0.2702 - accuracy: 0.89 - ETA: 4s - loss: 0.2678 - accuracy: 0.89 - ETA: 3s - loss: 0.2702 - accuracy: 0.89 - ETA: 3s - loss: 0.2681 - accuracy: 0.89 - ETA: 3s - loss: 0.2685 - accuracy: 0.89 - ETA: 2s - loss: 0.2667 - accuracy: 0.89 - ETA: 2s - loss: 0.2668 - accuracy: 0.89 - ETA: 1s - loss: 0.2686 - accuracy: 0.89 - ETA: 1s - loss: 0.2659 - accuracy: 0.89 - ETA: 1s - loss: 0.2662 - accuracy: 0.89 - ETA: 0s - loss: 0.2687 - accuracy: 0.89 - ETA: 0s - loss: 0.2683 - accuracy: 0.89 - ETA: 0s - loss: 0.2676 - accuracy: 0.89 - 32s 400ms/step - loss: 0.2697 - accuracy: 0.8964 - val_loss: 0.2964 - val_accuracy: 0.8644\n",
      "Epoch 19/20\n",
      "80/79 [==============================] - ETA: 27s - loss: 0.1798 - accuracy: 0.937 - ETA: 27s - loss: 0.1830 - accuracy: 0.937 - ETA: 27s - loss: 0.1833 - accuracy: 0.937 - ETA: 26s - loss: 0.1745 - accuracy: 0.937 - ETA: 26s - loss: 0.1661 - accuracy: 0.950 - ETA: 26s - loss: 0.1874 - accuracy: 0.937 - ETA: 25s - loss: 0.1916 - accuracy: 0.928 - ETA: 25s - loss: 0.2283 - accuracy: 0.906 - ETA: 25s - loss: 0.2392 - accuracy: 0.902 - ETA: 25s - loss: 0.2963 - accuracy: 0.881 - ETA: 24s - loss: 0.2747 - accuracy: 0.892 - ETA: 24s - loss: 0.2672 - accuracy: 0.895 - ETA: 24s - loss: 0.2597 - accuracy: 0.899 - ETA: 23s - loss: 0.2539 - accuracy: 0.901 - ETA: 23s - loss: 0.2647 - accuracy: 0.895 - ETA: 23s - loss: 0.2601 - accuracy: 0.894 - ETA: 22s - loss: 0.2592 - accuracy: 0.897 - ETA: 22s - loss: 0.2494 - accuracy: 0.902 - ETA: 21s - loss: 0.2487 - accuracy: 0.901 - ETA: 21s - loss: 0.2484 - accuracy: 0.903 - ETA: 21s - loss: 0.2454 - accuracy: 0.904 - ETA: 20s - loss: 0.2415 - accuracy: 0.906 - ETA: 20s - loss: 0.2464 - accuracy: 0.904 - ETA: 20s - loss: 0.2439 - accuracy: 0.903 - ETA: 19s - loss: 0.2475 - accuracy: 0.902 - ETA: 19s - loss: 0.2474 - accuracy: 0.901 - ETA: 19s - loss: 0.2455 - accuracy: 0.902 - ETA: 19s - loss: 0.2465 - accuracy: 0.904 - ETA: 18s - loss: 0.2540 - accuracy: 0.900 - ETA: 18s - loss: 0.2492 - accuracy: 0.904 - ETA: 18s - loss: 0.2528 - accuracy: 0.901 - ETA: 17s - loss: 0.2475 - accuracy: 0.904 - ETA: 17s - loss: 0.2462 - accuracy: 0.903 - ETA: 16s - loss: 0.2408 - accuracy: 0.906 - ETA: 16s - loss: 0.2367 - accuracy: 0.908 - ETA: 16s - loss: 0.2368 - accuracy: 0.908 - ETA: 15s - loss: 0.2340 - accuracy: 0.908 - ETA: 15s - loss: 0.2381 - accuracy: 0.906 - ETA: 14s - loss: 0.2408 - accuracy: 0.907 - ETA: 14s - loss: 0.2381 - accuracy: 0.906 - ETA: 14s - loss: 0.2357 - accuracy: 0.907 - ETA: 13s - loss: 0.2400 - accuracy: 0.904 - ETA: 13s - loss: 0.2420 - accuracy: 0.904 - ETA: 13s - loss: 0.2419 - accuracy: 0.903 - ETA: 12s - loss: 0.2408 - accuracy: 0.902 - ETA: 12s - loss: 0.2441 - accuracy: 0.899 - ETA: 11s - loss: 0.2450 - accuracy: 0.900 - ETA: 11s - loss: 0.2503 - accuracy: 0.895 - ETA: 11s - loss: 0.2919 - accuracy: 0.894 - ETA: 10s - loss: 0.2920 - accuracy: 0.894 - ETA: 10s - loss: 0.2887 - accuracy: 0.896 - ETA: 9s - loss: 0.2867 - accuracy: 0.897 - ETA: 9s - loss: 0.2942 - accuracy: 0.89 - ETA: 9s - loss: 0.2934 - accuracy: 0.89 - ETA: 8s - loss: 0.2953 - accuracy: 0.89 - ETA: 8s - loss: 0.2916 - accuracy: 0.89 - ETA: 8s - loss: 0.2893 - accuracy: 0.89 - ETA: 7s - loss: 0.2920 - accuracy: 0.89 - ETA: 7s - loss: 0.2893 - accuracy: 0.89 - ETA: 7s - loss: 0.2880 - accuracy: 0.89 - ETA: 6s - loss: 0.2888 - accuracy: 0.89 - ETA: 6s - loss: 0.2888 - accuracy: 0.89 - ETA: 5s - loss: 0.2868 - accuracy: 0.89 - ETA: 5s - loss: 0.2881 - accuracy: 0.89 - ETA: 5s - loss: 0.2846 - accuracy: 0.89 - ETA: 4s - loss: 0.2836 - accuracy: 0.89 - ETA: 4s - loss: 0.2823 - accuracy: 0.89 - ETA: 4s - loss: 0.2836 - accuracy: 0.89 - ETA: 3s - loss: 0.2806 - accuracy: 0.89 - ETA: 3s - loss: 0.2806 - accuracy: 0.89 - ETA: 2s - loss: 0.2789 - accuracy: 0.89 - ETA: 2s - loss: 0.2786 - accuracy: 0.89 - ETA: 2s - loss: 0.2776 - accuracy: 0.89 - ETA: 1s - loss: 0.2759 - accuracy: 0.89 - ETA: 1s - loss: 0.2743 - accuracy: 0.90 - ETA: 1s - loss: 0.2761 - accuracy: 0.89 - ETA: 0s - loss: 0.2777 - accuracy: 0.89 - ETA: 0s - loss: 0.2758 - accuracy: 0.89 - ETA: 0s - loss: 0.2768 - accuracy: 0.89 - 32s 398ms/step - loss: 0.2761 - accuracy: 0.8972 - val_loss: 0.2214 - val_accuracy: 0.9306\n",
      "Epoch 20/20\n",
      "80/79 [==============================] - ETA: 29s - loss: 0.3676 - accuracy: 0.812 - ETA: 28s - loss: 0.3397 - accuracy: 0.843 - ETA: 28s - loss: 0.2795 - accuracy: 0.854 - ETA: 27s - loss: 0.2469 - accuracy: 0.890 - ETA: 27s - loss: 0.2066 - accuracy: 0.912 - ETA: 27s - loss: 0.1912 - accuracy: 0.916 - ETA: 27s - loss: 0.2023 - accuracy: 0.910 - ETA: 27s - loss: 0.1883 - accuracy: 0.914 - ETA: 26s - loss: 0.1859 - accuracy: 0.916 - ETA: 26s - loss: 0.2218 - accuracy: 0.906 - ETA: 25s - loss: 0.2561 - accuracy: 0.892 - ETA: 25s - loss: 0.2435 - accuracy: 0.895 - ETA: 25s - loss: 0.2391 - accuracy: 0.899 - ETA: 24s - loss: 0.2455 - accuracy: 0.897 - ETA: 24s - loss: 0.2422 - accuracy: 0.895 - ETA: 24s - loss: 0.2409 - accuracy: 0.894 - ETA: 23s - loss: 0.2353 - accuracy: 0.897 - ETA: 23s - loss: 0.2371 - accuracy: 0.899 - ETA: 22s - loss: 0.2300 - accuracy: 0.904 - ETA: 22s - loss: 0.2340 - accuracy: 0.900 - ETA: 22s - loss: 0.2305 - accuracy: 0.901 - ETA: 21s - loss: 0.2339 - accuracy: 0.900 - ETA: 21s - loss: 0.2332 - accuracy: 0.899 - ETA: 20s - loss: 0.2271 - accuracy: 0.903 - ETA: 20s - loss: 0.2270 - accuracy: 0.905 - ETA: 19s - loss: 0.2225 - accuracy: 0.905 - ETA: 19s - loss: 0.2208 - accuracy: 0.906 - ETA: 19s - loss: 0.2141 - accuracy: 0.909 - ETA: 18s - loss: 0.2129 - accuracy: 0.910 - ETA: 18s - loss: 0.2089 - accuracy: 0.914 - ETA: 17s - loss: 0.2058 - accuracy: 0.914 - ETA: 17s - loss: 0.2098 - accuracy: 0.911 - ETA: 17s - loss: 0.2080 - accuracy: 0.910 - ETA: 16s - loss: 0.2063 - accuracy: 0.913 - ETA: 16s - loss: 0.2042 - accuracy: 0.913 - ETA: 16s - loss: 0.2056 - accuracy: 0.912 - ETA: 15s - loss: 0.2049 - accuracy: 0.913 - ETA: 15s - loss: 0.2102 - accuracy: 0.912 - ETA: 14s - loss: 0.2096 - accuracy: 0.909 - ETA: 14s - loss: 0.2088 - accuracy: 0.910 - ETA: 14s - loss: 0.2105 - accuracy: 0.909 - ETA: 13s - loss: 0.2134 - accuracy: 0.908 - ETA: 13s - loss: 0.2145 - accuracy: 0.907 - ETA: 13s - loss: 0.2170 - accuracy: 0.905 - ETA: 12s - loss: 0.2184 - accuracy: 0.906 - ETA: 12s - loss: 0.2198 - accuracy: 0.905 - ETA: 11s - loss: 0.2213 - accuracy: 0.905 - ETA: 11s - loss: 0.2217 - accuracy: 0.905 - ETA: 11s - loss: 0.2188 - accuracy: 0.907 - ETA: 10s - loss: 0.2164 - accuracy: 0.909 - ETA: 10s - loss: 0.2145 - accuracy: 0.911 - ETA: 10s - loss: 0.2129 - accuracy: 0.911 - ETA: 9s - loss: 0.2134 - accuracy: 0.910 - ETA: 9s - loss: 0.2167 - accuracy: 0.90 - ETA: 8s - loss: 0.2147 - accuracy: 0.90 - ETA: 8s - loss: 0.2167 - accuracy: 0.90 - ETA: 8s - loss: 0.2158 - accuracy: 0.90 - ETA: 7s - loss: 0.2137 - accuracy: 0.91 - ETA: 7s - loss: 0.2127 - accuracy: 0.91 - ETA: 7s - loss: 0.2116 - accuracy: 0.91 - ETA: 6s - loss: 0.2168 - accuracy: 0.90 - ETA: 6s - loss: 0.2181 - accuracy: 0.90 - ETA: 5s - loss: 0.2186 - accuracy: 0.90 - ETA: 5s - loss: 0.2208 - accuracy: 0.90 - ETA: 5s - loss: 0.2191 - accuracy: 0.90 - ETA: 4s - loss: 0.2198 - accuracy: 0.90 - ETA: 4s - loss: 0.2241 - accuracy: 0.90 - ETA: 4s - loss: 0.2261 - accuracy: 0.90 - ETA: 3s - loss: 0.2236 - accuracy: 0.90 - ETA: 3s - loss: 0.2223 - accuracy: 0.90 - ETA: 2s - loss: 0.2224 - accuracy: 0.90 - ETA: 2s - loss: 0.2232 - accuracy: 0.90 - ETA: 2s - loss: 0.2254 - accuracy: 0.90 - ETA: 1s - loss: 0.2237 - accuracy: 0.90 - ETA: 1s - loss: 0.2266 - accuracy: 0.90 - ETA: 1s - loss: 0.2325 - accuracy: 0.90 - ETA: 0s - loss: 0.2317 - accuracy: 0.90 - ETA: 0s - loss: 0.2355 - accuracy: 0.90 - ETA: 0s - loss: 0.2344 - accuracy: 0.90 - 32s 397ms/step - loss: 0.2349 - accuracy: 0.9059 - val_loss: 0.2077 - val_accuracy: 0.9243\n"
     ]
    }
   ],
   "source": [
    "history = model.fit_generator(\n",
    "    train_generator.flow(x_train, y_train, batch_size=BATCH_SIZE),\n",
    "    steps_per_epoch=x_train.shape[0] / BATCH_SIZE,\n",
    "    epochs=20,\n",
    "    validation_data=(x_val, y_val),\n",
    "    callbacks=[learn_control, checkpoint]\n",
    ")"
   ]
  },
  {
   "cell_type": "code",
   "execution_count": 33,
   "metadata": {
    "colab": {},
    "colab_type": "code",
    "id": "RXAJgKlxSqSt"
   },
   "outputs": [],
   "source": [
    "with open('history.json', 'w') as f:\n",
    "    json.dump(str(history.history), f)"
   ]
  },
  {
   "cell_type": "code",
   "execution_count": 35,
   "metadata": {
    "colab": {
     "base_uri": "https://localhost:8080/",
     "height": 286
    },
    "colab_type": "code",
    "id": "Q_91LlCWSqSy",
    "outputId": "e5a362ac-a3fb-4557-a6d3-7ad8505ffbf1"
   },
   "outputs": [
    {
     "data": {
      "text/plain": [
       "<matplotlib.axes._subplots.AxesSubplot at 0x25243eea908>"
      ]
     },
     "execution_count": 35,
     "metadata": {},
     "output_type": "execute_result"
    },
    {
     "data": {
      "image/png": "[encoded data removed]",
      "text/plain": [
       "<Figure size 432x288 with 1 Axes>"
      ]
     },
     "metadata": {
      "needs_background": "light"
     },
     "output_type": "display_data"
    }
   ],
   "source": [
    "history_df = pd.DataFrame(history.history)\n",
    "history_df[['accuracy', 'val_accuracy']].plot()\n",
    "# history_df"
   ]
  },
  {
   "cell_type": "code",
   "execution_count": 36,
   "metadata": {
    "colab": {
     "base_uri": "https://localhost:8080/",
     "height": 286
    },
    "colab_type": "code",
    "id": "IlBxAgv_SqS3",
    "outputId": "37366ff9-8f4d-4172-a408-31d6e3f36d2f"
   },
   "outputs": [
    {
     "data": {
      "text/plain": [
       "<matplotlib.axes._subplots.AxesSubplot at 0x25244804e08>"
      ]
     },
     "execution_count": 36,
     "metadata": {},
     "output_type": "execute_result"
    },
    {
     "data": {
      "image/png": "[encoded data removed]",
      "text/plain": [
       "<Figure size 432x288 with 1 Axes>"
      ]
     },
     "metadata": {
      "needs_background": "light"
     },
     "output_type": "display_data"
    }
   ],
   "source": [
    "history_df = pd.DataFrame(history.history)\n",
    "history_df[['loss', 'val_loss']].plot()"
   ]
  },
  {
   "cell_type": "markdown",
   "metadata": {
    "colab_type": "text",
    "id": "vZJCGQnCSqS8"
   },
   "source": [
    "# Prediction"
   ]
  },
  {
   "cell_type": "code",
   "execution_count": 38,
   "metadata": {
    "colab": {},
    "colab_type": "code",
    "id": "BGxPt71KSqS9"
   },
   "outputs": [],
   "source": [
    "# model.save(\"weights.best.hdf5\")\n",
    "model.load_weights(\"weights.best.hdf5\")"
   ]
  },
  {
   "cell_type": "code",
   "execution_count": 39,
   "metadata": {
    "colab": {},
    "colab_type": "code",
    "id": "hr5CdtGLSqTB"
   },
   "outputs": [],
   "source": [
    "Y_val_pred = model.predict(x_val)"
   ]
  },
  {
   "cell_type": "code",
   "execution_count": 40,
   "metadata": {
    "colab": {
     "base_uri": "https://localhost:8080/",
     "height": 34
    },
    "colab_type": "code",
    "id": "fqwz9c50SqTG",
    "outputId": "de740001-948b-4ec4-a58d-d9a4e1886bc9"
   },
   "outputs": [
    {
     "data": {
      "text/plain": [
       "0.9242902208201893"
      ]
     },
     "execution_count": 40,
     "metadata": {},
     "output_type": "execute_result"
    }
   ],
   "source": [
    "accuracy_score(np.argmax(y_val, axis=1), np.argmax(Y_val_pred, axis=1))"
   ]
  }
 ],
 "metadata": {
  "accelerator": "GPU",
  "colab": {
   "include_colab_link": true,
   "name": "Breast_cancer_classification.ipynb",
   "provenance": [],
   "version": "0.3.2"
  },
  "kernelspec": {
   "display_name": "MyGPU",
   "language": "python",
   "name": "mygpu"
  },
  "language_info": {
   "codemirror_mode": {
    "name": "ipython",
    "version": 3
   },
   "file_extension": ".py",
   "mimetype": "text/x-python",
   "name": "python",
   "nbconvert_exporter": "python",
   "pygments_lexer": "ipython3",
   "version": "3.7.4"
  }
 },
 "nbformat": 4,
 "nbformat_minor": 1
}
